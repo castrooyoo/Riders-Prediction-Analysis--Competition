{
 "cells": [
  {
   "cell_type": "markdown",
   "metadata": {
    "colab_type": "text",
    "id": "view-in-github"
   },
   "source": [
    "<a href=\"https://colab.research.google.com/github/castrooyoo/Data-analysis/blob/master/competition.ipynb\" target=\"_parent\"><img src=\"https://colab.research.google.com/assets/colab-badge.svg\" alt=\"Open In Colab\"/></a>"
   ]
  },
  {
   "cell_type": "code",
   "execution_count": 0,
   "metadata": {
    "colab": {},
    "colab_type": "code",
    "id": "_SR5LH7um4Nu"
   },
   "outputs": [],
   "source": [
    "import pandas as pd\n",
    "import numpy as np\n",
    "import matplotlib.pyplot as plt\n",
    "import seaborn as sns\n",
    "%matplotlib inline"
   ]
  },
  {
   "cell_type": "markdown",
   "metadata": {
    "colab_type": "text",
    "id": "4JjpHL5UfrnO"
   },
   "source": [
    "# importing data"
   ]
  },
  {
   "cell_type": "code",
   "execution_count": 0,
   "metadata": {
    "colab": {},
    "colab_type": "code",
    "id": "RY6WW4cdm4OG"
   },
   "outputs": [],
   "source": [
    "Train = pd.read_csv('Train.csv')\n",
    "Test = pd.read_csv('Test.csv')\n",
    "Riders = pd.read_csv('Riders.csv')"
   ]
  },
  {
   "cell_type": "code",
   "execution_count": 0,
   "metadata": {
    "colab": {},
    "colab_type": "code",
    "id": "FoA5HpBIm4OT"
   },
   "outputs": [],
   "source": [
    "te = Test.set_index(keys='Rider Id')\n",
    "ri = Riders.set_index(keys='Rider Id')"
   ]
  },
  {
   "cell_type": "code",
   "execution_count": 0,
   "metadata": {
    "colab": {},
    "colab_type": "code",
    "id": "WTzDGLRUm4Oi"
   },
   "outputs": [],
   "source": [
    "t = Train.set_index(keys='Rider Id')\n",
    "r = Riders.set_index(keys='Rider Id')"
   ]
  },
  {
   "cell_type": "code",
   "execution_count": 0,
   "metadata": {
    "colab": {},
    "colab_type": "code",
    "id": "BUejIarpm4Oy"
   },
   "outputs": [],
   "source": [
    "Train = t.join(r)\n",
    "Test = te.join(ri)"
   ]
  },
  {
   "cell_type": "code",
   "execution_count": 0,
   "metadata": {
    "colab": {},
    "colab_type": "code",
    "id": "sU34bc7am4O_"
   },
   "outputs": [],
   "source": [
    "Train = Train.reset_index()\n",
    "Test = Test.reset_index()"
   ]
  },
  {
   "cell_type": "markdown",
   "metadata": {
    "colab_type": "text",
    "id": "nRDJwOWLm4PM"
   },
   "source": [
    "### get information about all columns"
   ]
  },
  {
   "cell_type": "code",
   "execution_count": 16,
   "metadata": {
    "colab": {
     "base_uri": "https://localhost:8080/",
     "height": 663
    },
    "colab_type": "code",
    "id": "FkN7KhoCm4PR",
    "outputId": "b8cf18f2-b98c-4f1d-ff7e-e458b2e74e11"
   },
   "outputs": [
    {
     "name": "stdout",
     "output_type": "stream",
     "text": [
      "<class 'pandas.core.frame.DataFrame'>\n",
      "RangeIndex: 21201 entries, 0 to 21200\n",
      "Data columns (total 33 columns):\n",
      "Rider Id                                     21201 non-null object\n",
      "Order No                                     21201 non-null object\n",
      "User Id                                      21201 non-null object\n",
      "Vehicle Type                                 21201 non-null object\n",
      "Platform Type                                21201 non-null int64\n",
      "Personal or Business                         21201 non-null object\n",
      "Placement - Day of Month                     21201 non-null int64\n",
      "Placement - Weekday (Mo = 1)                 21201 non-null int64\n",
      "Placement - Time                             21201 non-null object\n",
      "Confirmation - Day of Month                  21201 non-null int64\n",
      "Confirmation - Weekday (Mo = 1)              21201 non-null int64\n",
      "Confirmation - Time                          21201 non-null object\n",
      "Arrival at Pickup - Day of Month             21201 non-null int64\n",
      "Arrival at Pickup - Weekday (Mo = 1)         21201 non-null int64\n",
      "Arrival at Pickup - Time                     21201 non-null object\n",
      "Pickup - Day of Month                        21201 non-null int64\n",
      "Pickup - Weekday (Mo = 1)                    21201 non-null int64\n",
      "Pickup - Time                                21201 non-null object\n",
      "Arrival at Destination - Day of Month        21201 non-null int64\n",
      "Arrival at Destination - Weekday (Mo = 1)    21201 non-null int64\n",
      "Arrival at Destination - Time                21201 non-null object\n",
      "Distance (KM)                                21201 non-null int64\n",
      "Temperature                                  16835 non-null float64\n",
      "Precipitation in millimeters                 552 non-null float64\n",
      "Pickup Lat                                   21201 non-null float64\n",
      "Pickup Long                                  21201 non-null float64\n",
      "Destination Lat                              21201 non-null float64\n",
      "Destination Long                             21201 non-null float64\n",
      "Time from Pickup to Arrival                  21201 non-null int64\n",
      "No_Of_Orders                                 21201 non-null int64\n",
      "Age                                          21201 non-null int64\n",
      "Average_Rating                               21201 non-null float64\n",
      "No_of_Ratings                                21201 non-null int64\n",
      "dtypes: float64(7), int64(16), object(10)\n",
      "memory usage: 5.3+ MB\n"
     ]
    }
   ],
   "source": [
    "Train.info()"
   ]
  },
  {
   "cell_type": "code",
   "execution_count": 17,
   "metadata": {
    "colab": {
     "base_uri": "https://localhost:8080/",
     "height": 595
    },
    "colab_type": "code",
    "id": "Dzz9m9Wbm4Pi",
    "outputId": "26e6ef24-7ad8-4478-ba72-9515ee40790e"
   },
   "outputs": [
    {
     "data": {
      "text/plain": [
       "Rider Id                                         0\n",
       "Order No                                         0\n",
       "User Id                                          0\n",
       "Vehicle Type                                     0\n",
       "Platform Type                                    0\n",
       "Personal or Business                             0\n",
       "Placement - Day of Month                         0\n",
       "Placement - Weekday (Mo = 1)                     0\n",
       "Placement - Time                                 0\n",
       "Confirmation - Day of Month                      0\n",
       "Confirmation - Weekday (Mo = 1)                  0\n",
       "Confirmation - Time                              0\n",
       "Arrival at Pickup - Day of Month                 0\n",
       "Arrival at Pickup - Weekday (Mo = 1)             0\n",
       "Arrival at Pickup - Time                         0\n",
       "Pickup - Day of Month                            0\n",
       "Pickup - Weekday (Mo = 1)                        0\n",
       "Pickup - Time                                    0\n",
       "Arrival at Destination - Day of Month            0\n",
       "Arrival at Destination - Weekday (Mo = 1)        0\n",
       "Arrival at Destination - Time                    0\n",
       "Distance (KM)                                    0\n",
       "Temperature                                   4366\n",
       "Precipitation in millimeters                 20649\n",
       "Pickup Lat                                       0\n",
       "Pickup Long                                      0\n",
       "Destination Lat                                  0\n",
       "Destination Long                                 0\n",
       "Time from Pickup to Arrival                      0\n",
       "No_Of_Orders                                     0\n",
       "Age                                              0\n",
       "Average_Rating                                   0\n",
       "No_of_Ratings                                    0\n",
       "dtype: int64"
      ]
     },
     "execution_count": 17,
     "metadata": {
      "tags": []
     },
     "output_type": "execute_result"
    }
   ],
   "source": [
    "Train.isnull().sum()"
   ]
  },
  {
   "cell_type": "markdown",
   "metadata": {
    "colab_type": "text",
    "id": "9EeT8SThf1xz"
   },
   "source": [
    "# filling null values"
   ]
  },
  {
   "cell_type": "code",
   "execution_count": 0,
   "metadata": {
    "colab": {},
    "colab_type": "code",
    "id": "M0LOOFtjm4Pw"
   },
   "outputs": [],
   "source": [
    "Train['Temperature'].fillna(Train['Temperature'].mean(),inplace=True)\n",
    "Test['Temperature'].fillna(Test['Temperature'].mean(),inplace=True)"
   ]
  },
  {
   "cell_type": "code",
   "execution_count": 0,
   "metadata": {
    "colab": {},
    "colab_type": "code",
    "id": "IWTt1fkUm4P-"
   },
   "outputs": [],
   "source": [
    "### filling with mean\n",
    "Train['Precipitation in millimeters'].fillna(Train['Precipitation in millimeters'].mean(),inplace=True)\n",
    "Test['Precipitation in millimeters'].fillna(Test['Precipitation in millimeters'].mean(),inplace=True)"
   ]
  },
  {
   "cell_type": "code",
   "execution_count": 20,
   "metadata": {
    "colab": {
     "base_uri": "https://localhost:8080/",
     "height": 34
    },
    "colab_type": "code",
    "id": "l1meZBGQm4QS",
    "outputId": "dc43636a-42a0-472a-ac2a-8ffd4b1a6825"
   },
   "outputs": [
    {
     "data": {
      "text/plain": [
       "0"
      ]
     },
     "execution_count": 20,
     "metadata": {
      "tags": []
     },
     "output_type": "execute_result"
    }
   ],
   "source": [
    "Train.isnull().sum().sum()"
   ]
  },
  {
   "cell_type": "markdown",
   "metadata": {
    "colab_type": "text",
    "id": "DcgZSJ7Ef9EM"
   },
   "source": [
    "converting order, User id amd Rider id in numbers"
   ]
  },
  {
   "cell_type": "code",
   "execution_count": 0,
   "metadata": {
    "colab": {},
    "colab_type": "code",
    "id": "kxgB770Um4Qk"
   },
   "outputs": [],
   "source": [
    "order_no = [i.split('_')[-1] for i in Test['Order No']]\n",
    "user_id = [i.split('_')[-1] for i in Test['User Id']]\n",
    "rider_id = [i.split('_')[-1] for i in Test['Rider Id']]\n",
    "Test['Order No'] = pd.DataFrame(order_no)\n",
    "Test['User Id'] = pd.DataFrame(user_id)\n",
    "Test['Rider Id'] = pd.DataFrame(rider_id)"
   ]
  },
  {
   "cell_type": "code",
   "execution_count": 0,
   "metadata": {
    "colab": {},
    "colab_type": "code",
    "id": "q44Kn7mFm4Q2"
   },
   "outputs": [],
   "source": [
    "order_no = [i.split('_')[-1] for i in Train['Order No']]\n",
    "user_id = [i.split('_')[-1] for i in Train['User Id']]\n",
    "rider_id = [i.split('_')[-1] for i in Train['Rider Id']]\n",
    "Train['Order No'] = pd.DataFrame(order_no)\n",
    "Train['User Id'] = pd.DataFrame(user_id)\n",
    "Train['Rider Id'] = pd.DataFrame(rider_id)"
   ]
  },
  {
   "cell_type": "code",
   "execution_count": 0,
   "metadata": {
    "colab": {},
    "colab_type": "code",
    "id": "LrkYHEoFm4RA"
   },
   "outputs": [],
   "source": [
    "### where business= 1 and personal = 0\n",
    "Train['Personal or Business']=pd.get_dummies(Train['Personal or Business'])\n",
    "Test['Personal or Business']=pd.get_dummies(Test['Personal or Business'])"
   ]
  },
  {
   "cell_type": "code",
   "execution_count": 25,
   "metadata": {
    "colab": {
     "base_uri": "https://localhost:8080/",
     "height": 777
    },
    "colab_type": "code",
    "id": "_IJf2crem4RM",
    "outputId": "31a79e77-9a72-4be0-a614-bba57760d236"
   },
   "outputs": [
    {
     "data": {
      "text/plain": [
       "<matplotlib.axes._subplots.AxesSubplot at 0x7f449256add8>"
      ]
     },
     "execution_count": 25,
     "metadata": {
      "tags": []
     },
     "output_type": "execute_result"
    },
    {
     "data": {
      "image/png": "[encoded data removed]",
      "text/plain": [
       "<Figure size 1152x648 with 2 Axes>"
      ]
     },
     "metadata": {
      "tags": []
     },
     "output_type": "display_data"
    }
   ],
   "source": [
    "plt.figure(figsize=(16,9)) \n",
    "sns.heatmap(Train.corr())"
   ]
  },
  {
   "cell_type": "code",
   "execution_count": 0,
   "metadata": {
    "colab": {},
    "colab_type": "code",
    "id": "Z_pLKF1km4RY"
   },
   "outputs": [],
   "source": [
    "### the variable to be predicted\n",
    "Target = Train['Time from Pickup to Arrival']"
   ]
  },
  {
   "cell_type": "code",
   "execution_count": 27,
   "metadata": {
    "colab": {
     "base_uri": "https://localhost:8080/",
     "height": 204
    },
    "colab_type": "code",
    "id": "DumbYor9m4Rr",
    "outputId": "5162ab3b-5159-4a07-a6b1-51938a2e4cd2"
   },
   "outputs": [
    {
     "data": {
      "text/plain": [
       "Index(['Rider Id', 'Order No', 'User Id', 'Vehicle Type', 'Platform Type',\n",
       "       'Personal or Business', 'Placement - Day of Month',\n",
       "       'Placement - Weekday (Mo = 1)', 'Placement - Time',\n",
       "       'Confirmation - Day of Month', 'Confirmation - Weekday (Mo = 1)',\n",
       "       'Confirmation - Time', 'Arrival at Pickup - Day of Month',\n",
       "       'Arrival at Pickup - Weekday (Mo = 1)', 'Arrival at Pickup - Time',\n",
       "       'Pickup - Day of Month', 'Pickup - Weekday (Mo = 1)', 'Pickup - Time',\n",
       "       'Distance (KM)', 'Temperature', 'Precipitation in millimeters',\n",
       "       'Pickup Lat', 'Pickup Long', 'Destination Lat', 'Destination Long',\n",
       "       'No_Of_Orders', 'Age', 'Average_Rating', 'No_of_Ratings'],\n",
       "      dtype='object')"
      ]
     },
     "execution_count": 27,
     "metadata": {
      "tags": []
     },
     "output_type": "execute_result"
    }
   ],
   "source": [
    "Test.columns"
   ]
  },
  {
   "cell_type": "markdown",
   "metadata": {
    "colab_type": "text",
    "id": "qk38nCzEgNob"
   },
   "source": [
    "converting the time into python recognition format"
   ]
  },
  {
   "cell_type": "code",
   "execution_count": 0,
   "metadata": {
    "colab": {},
    "colab_type": "code",
    "id": "FZOa0w1Qm4SH"
   },
   "outputs": [],
   "source": [
    "Test['Pickup - Time'] = pd.to_timedelta(Test['Pickup - Time'])\n",
    "Test['Arrival at Pickup - Time'] = pd.to_timedelta(Test['Arrival at Pickup - Time'])\n",
    "Test['Time from Pickup to Arrival'] = abs(Test['Pickup - Time'] - Test['Arrival at Pickup - Time'])\n",
    "Test['Time from Pickup to Arrival'] = Test['Time from Pickup to Arrival'].dt.total_seconds().astype(int)"
   ]
  },
  {
   "cell_type": "code",
   "execution_count": 0,
   "metadata": {
    "colab": {},
    "colab_type": "code",
    "id": "0aHg9qr0m4SP"
   },
   "outputs": [],
   "source": [
    "#### the features for prediction\n",
    "features = Train.drop(columns=['Precipitation in millimeters','Time from Pickup to Arrival','Arrival at Destination - Day of Month','Arrival at Destination - Weekday (Mo = 1)','Arrival at Destination - Time', 'Pickup - Time', 'Arrival at Pickup - Time', 'Confirmation - Time', 'Placement - Time', 'Vehicle Type',])"
   ]
  },
  {
   "cell_type": "code",
   "execution_count": 30,
   "metadata": {
    "colab": {
     "base_uri": "https://localhost:8080/",
     "height": 34
    },
    "colab_type": "code",
    "id": "nO-SiG5Qm4Sl",
    "outputId": "97ff3695-1a2c-4417-c96f-717c95f3a3a7"
   },
   "outputs": [
    {
     "data": {
      "text/plain": [
       "(21201, 23)"
      ]
     },
     "execution_count": 30,
     "metadata": {
      "tags": []
     },
     "output_type": "execute_result"
    }
   ],
   "source": [
    "features.shape"
   ]
  },
  {
   "cell_type": "code",
   "execution_count": 0,
   "metadata": {
    "colab": {},
    "colab_type": "code",
    "id": "xL-wUpnrm4TG"
   },
   "outputs": [],
   "source": [
    "Y_train= Target.values.reshape(-1,1)\n",
    "X_train = features.values\n",
    "Y_test = Test['Time from Pickup to Arrival'].values.reshape(-1,1)\n",
    "X_test = Test.drop(columns=['Precipitation in millimeters','Time from Pickup to Arrival', 'Pickup - Time', 'Arrival at Pickup - Time', 'Confirmation - Time', 'Placement - Time', 'Vehicle Type',]).values"
   ]
  },
  {
   "cell_type": "code",
   "execution_count": 32,
   "metadata": {
    "colab": {
     "base_uri": "https://localhost:8080/",
     "height": 34
    },
    "colab_type": "code",
    "id": "gOL6G9Gam4Tb",
    "outputId": "e4d98ee4-89a3-45a1-cd6a-3452cd93e6d5"
   },
   "outputs": [
    {
     "data": {
      "text/plain": [
       "(7068, 23)"
      ]
     },
     "execution_count": 32,
     "metadata": {
      "tags": []
     },
     "output_type": "execute_result"
    }
   ],
   "source": [
    "X_test.shape"
   ]
  },
  {
   "cell_type": "code",
   "execution_count": 0,
   "metadata": {
    "colab": {},
    "colab_type": "code",
    "id": "WvlLZtJAm4To"
   },
   "outputs": [],
   "source": [
    "from sklearn.linear_model import LinearRegression, ElasticNet, ElasticNetCV,Lasso,Ridge\n",
    "from sklearn.metrics import mean_squared_error\n",
    "from math import sqrt"
   ]
  },
  {
   "cell_type": "markdown",
   "metadata": {
    "colab_type": "text",
    "id": "-ZW_McFCm4Tv"
   },
   "source": [
    "### LinearRegression"
   ]
  },
  {
   "cell_type": "code",
   "execution_count": 0,
   "metadata": {
    "colab": {},
    "colab_type": "code",
    "id": "N5x3OkAcm4Ty"
   },
   "outputs": [],
   "source": [
    "ln = LinearRegression(normalize=True)"
   ]
  },
  {
   "cell_type": "code",
   "execution_count": 0,
   "metadata": {
    "colab": {},
    "colab_type": "code",
    "id": "qkG_Sedfm4T7"
   },
   "outputs": [],
   "source": [
    "ln.fit(X_train, Y_train)\n",
    "y_predict = ln.predict(X_test)"
   ]
  },
  {
   "cell_type": "code",
   "execution_count": 0,
   "metadata": {
    "colab": {},
    "colab_type": "code",
    "id": "Gd2TI8qxm4UG"
   },
   "outputs": [],
   "source": [
    "RMSE = sqrt(mean_squared_error(Y_test, y_predict))"
   ]
  },
  {
   "cell_type": "code",
   "execution_count": 38,
   "metadata": {
    "colab": {
     "base_uri": "https://localhost:8080/",
     "height": 34
    },
    "colab_type": "code",
    "id": "boFRHTGtm4UX",
    "outputId": "d5fc23e9-888d-4d5e-f272-3daed82e6d66"
   },
   "outputs": [
    {
     "name": "stdout",
     "output_type": "stream",
     "text": [
      "6583.417453531976\n"
     ]
    }
   ],
   "source": [
    "print(RMSE)"
   ]
  },
  {
   "cell_type": "code",
   "execution_count": 0,
   "metadata": {
    "colab": {},
    "colab_type": "code",
    "id": "5YKVGpOYm4Uj"
   },
   "outputs": [],
   "source": [
    "df = pd.DataFrame(y_predict,columns=['Predicted total time'])\n",
    "Actual = pd.DataFrame(Test['Time from Pickup to Arrival'])\n",
    "Order = pd.DataFrame(Test['Order No'])\n",
    "j=Order.join(Actual)\n",
    "j.join(df).to_csv('sub1.csv')"
   ]
  },
  {
   "cell_type": "markdown",
   "metadata": {
    "colab_type": "text",
    "id": "kvNBH4o9gjAE"
   },
   "source": [
    "lets use elastic net to try reduce overfitting on our data"
   ]
  },
  {
   "cell_type": "markdown",
   "metadata": {
    "colab_type": "text",
    "id": "T8it7yt5m4Ux"
   },
   "source": [
    "### ElasticNet"
   ]
  },
  {
   "cell_type": "code",
   "execution_count": 0,
   "metadata": {
    "colab": {},
    "colab_type": "code",
    "id": "AQL1h70jm4U1"
   },
   "outputs": [],
   "source": [
    "el = ElasticNetCV(cv=5,alphas=(0.1,0.01,0.001),l1_ratio = (0.1,0.25,0.5,0.75,0.8,0.9),normalize=True,random_state=1)"
   ]
  },
  {
   "cell_type": "code",
   "execution_count": 41,
   "metadata": {
    "colab": {
     "base_uri": "https://localhost:8080/",
     "height": 156
    },
    "colab_type": "code",
    "id": "Fy5Q76Kcm4VA",
    "outputId": "8c897752-ce24-4b6f-c9ae-7b9eae27a09c"
   },
   "outputs": [
    {
     "name": "stderr",
     "output_type": "stream",
     "text": [
      "/usr/local/lib/python3.6/dist-packages/sklearn/linear_model/coordinate_descent.py:1100: DataConversionWarning: A column-vector y was passed when a 1d array was expected. Please change the shape of y to (n_samples, ), for example using ravel().\n",
      "  y = column_or_1d(y, warn=True)\n"
     ]
    },
    {
     "data": {
      "text/plain": [
       "ElasticNetCV(alphas=(0.1, 0.01, 0.001), copy_X=True, cv=5, eps=0.001,\n",
       "             fit_intercept=True, l1_ratio=(0.1, 0.25, 0.5, 0.75, 0.8, 0.9),\n",
       "             max_iter=1000, n_alphas=100, n_jobs=None, normalize=True,\n",
       "             positive=False, precompute='auto', random_state=1,\n",
       "             selection='cyclic', tol=0.0001, verbose=0)"
      ]
     },
     "execution_count": 41,
     "metadata": {
      "tags": []
     },
     "output_type": "execute_result"
    }
   ],
   "source": [
    "el.fit(X_train, Y_train)"
   ]
  },
  {
   "cell_type": "code",
   "execution_count": 42,
   "metadata": {
    "colab": {
     "base_uri": "https://localhost:8080/",
     "height": 51
    },
    "colab_type": "code",
    "id": "RFlJMhDOm4VP",
    "outputId": "07d0222a-d3ea-4be1-d60c-b44e26cdbd8d"
   },
   "outputs": [
    {
     "name": "stdout",
     "output_type": "stream",
     "text": [
      "0.001\n",
      "0.9\n"
     ]
    }
   ],
   "source": [
    "print(el.alpha_)\n",
    "print(el.l1_ratio_)"
   ]
  },
  {
   "cell_type": "code",
   "execution_count": 43,
   "metadata": {
    "colab": {
     "base_uri": "https://localhost:8080/",
     "height": 219
    },
    "colab_type": "code",
    "id": "KMZ3-SGzm4Vl",
    "outputId": "fe5af327-7030-4466-eb80-a096aa6b6dc1"
   },
   "outputs": [
    {
     "data": {
      "text/html": [
       "<div>\n",
       "<style scoped>\n",
       "    .dataframe tbody tr th:only-of-type {\n",
       "        vertical-align: middle;\n",
       "    }\n",
       "\n",
       "    .dataframe tbody tr th {\n",
       "        vertical-align: top;\n",
       "    }\n",
       "\n",
       "    .dataframe thead th {\n",
       "        text-align: right;\n",
       "    }\n",
       "</style>\n",
       "<table border=\"1\" class=\"dataframe\">\n",
       "  <thead>\n",
       "    <tr style=\"text-align: right;\">\n",
       "      <th></th>\n",
       "      <th>Rider Id</th>\n",
       "      <th>Order No</th>\n",
       "      <th>User Id</th>\n",
       "      <th>Vehicle Type</th>\n",
       "      <th>Platform Type</th>\n",
       "      <th>Personal or Business</th>\n",
       "      <th>Placement - Day of Month</th>\n",
       "      <th>Placement - Weekday (Mo = 1)</th>\n",
       "      <th>Placement - Time</th>\n",
       "      <th>Confirmation - Day of Month</th>\n",
       "      <th>Confirmation - Weekday (Mo = 1)</th>\n",
       "      <th>Confirmation - Time</th>\n",
       "      <th>Arrival at Pickup - Day of Month</th>\n",
       "      <th>Arrival at Pickup - Weekday (Mo = 1)</th>\n",
       "      <th>Arrival at Pickup - Time</th>\n",
       "      <th>Pickup - Day of Month</th>\n",
       "      <th>Pickup - Weekday (Mo = 1)</th>\n",
       "      <th>Pickup - Time</th>\n",
       "      <th>Distance (KM)</th>\n",
       "      <th>Temperature</th>\n",
       "      <th>Precipitation in millimeters</th>\n",
       "      <th>Pickup Lat</th>\n",
       "      <th>Pickup Long</th>\n",
       "      <th>Destination Lat</th>\n",
       "      <th>Destination Long</th>\n",
       "      <th>No_Of_Orders</th>\n",
       "      <th>Age</th>\n",
       "      <th>Average_Rating</th>\n",
       "      <th>No_of_Ratings</th>\n",
       "      <th>Time from Pickup to Arrival</th>\n",
       "    </tr>\n",
       "  </thead>\n",
       "  <tbody>\n",
       "    <tr>\n",
       "      <th>0</th>\n",
       "      <td>10</td>\n",
       "      <td>6286</td>\n",
       "      <td>1500</td>\n",
       "      <td>Bike</td>\n",
       "      <td>3</td>\n",
       "      <td>1</td>\n",
       "      <td>30</td>\n",
       "      <td>3</td>\n",
       "      <td>9:44:29 AM</td>\n",
       "      <td>30</td>\n",
       "      <td>3</td>\n",
       "      <td>9:44:34 AM</td>\n",
       "      <td>30</td>\n",
       "      <td>3</td>\n",
       "      <td>09:47:31</td>\n",
       "      <td>30</td>\n",
       "      <td>3</td>\n",
       "      <td>09:49:48</td>\n",
       "      <td>13</td>\n",
       "      <td>19.5</td>\n",
       "      <td>6.651759</td>\n",
       "      <td>-1.263605</td>\n",
       "      <td>36.7851</td>\n",
       "      <td>-1.3228</td>\n",
       "      <td>36.830644</td>\n",
       "      <td>6978</td>\n",
       "      <td>1990</td>\n",
       "      <td>13.3</td>\n",
       "      <td>413</td>\n",
       "      <td>137</td>\n",
       "    </tr>\n",
       "  </tbody>\n",
       "</table>\n",
       "</div>"
      ],
      "text/plain": [
       "  Rider Id Order No  ... No_of_Ratings Time from Pickup to Arrival\n",
       "0       10     6286  ...           413                         137\n",
       "\n",
       "[1 rows x 30 columns]"
      ]
     },
     "execution_count": 43,
     "metadata": {
      "tags": []
     },
     "output_type": "execute_result"
    }
   ],
   "source": [
    "Test.head(1)"
   ]
  },
  {
   "cell_type": "code",
   "execution_count": 0,
   "metadata": {
    "colab": {},
    "colab_type": "code",
    "id": "AOroASZqm4Vx"
   },
   "outputs": [],
   "source": [
    "y_predicted = el.predict(X_test)"
   ]
  },
  {
   "cell_type": "code",
   "execution_count": 0,
   "metadata": {
    "colab": {},
    "colab_type": "code",
    "id": "MBuxZa9em4V9"
   },
   "outputs": [],
   "source": [
    "RMSE = sqrt(mean_squared_error(Y_test, y_predicted))"
   ]
  },
  {
   "cell_type": "code",
   "execution_count": 46,
   "metadata": {
    "colab": {
     "base_uri": "https://localhost:8080/",
     "height": 34
    },
    "colab_type": "code",
    "id": "YfsqxdTRm4WE",
    "outputId": "255f7a25-e605-4a99-9b54-acf5a7696436"
   },
   "outputs": [
    {
     "name": "stdout",
     "output_type": "stream",
     "text": [
      "6567.380947738796\n"
     ]
    }
   ],
   "source": [
    "print(RMSE)"
   ]
  },
  {
   "cell_type": "code",
   "execution_count": 0,
   "metadata": {
    "colab": {},
    "colab_type": "code",
    "id": "naw6xkH_m4WR"
   },
   "outputs": [],
   "source": [
    "df = pd.DataFrame(y_predicted,columns=['Predicted total time'])\n",
    "Actual = pd.DataFrame(Test['Time from Pickup to Arrival'])\n",
    "Order = pd.DataFrame(Test['Order No'])\n",
    "j=Order.join(Actual)\n",
    "j.join(df).to_csv('sub2.csv')"
   ]
  },
  {
   "cell_type": "markdown",
   "metadata": {
    "colab_type": "text",
    "id": "LYr00oeigxp6"
   },
   "source": [
    "## using only train and test data without joing to riders data"
   ]
  },
  {
   "cell_type": "markdown",
   "metadata": {
    "colab_type": "text",
    "id": "pRGH7iAzm4Wk"
   },
   "source": [
    "### actual train and test"
   ]
  },
  {
   "cell_type": "code",
   "execution_count": 0,
   "metadata": {
    "colab": {},
    "colab_type": "code",
    "id": "Rk1C6TUkm4Wn"
   },
   "outputs": [],
   "source": [
    "Actual_Train = pd.read_csv('Train.csv')\n",
    "Actual_Test = pd.read_csv('Test.csv')"
   ]
  },
  {
   "cell_type": "code",
   "execution_count": 0,
   "metadata": {
    "colab": {},
    "colab_type": "code",
    "id": "M7ZTlU19m4W3"
   },
   "outputs": [],
   "source": [
    "Act_Train = Actual_Train\n",
    "Act_Test = Actual_Test"
   ]
  },
  {
   "cell_type": "markdown",
   "metadata": {
    "colab_type": "text",
    "id": "mnFVxhEng8Gb"
   },
   "source": [
    "Converting time into timestamp and user id ,riders id and order number in integer "
   ]
  },
  {
   "cell_type": "code",
   "execution_count": 0,
   "metadata": {
    "colab": {},
    "colab_type": "code",
    "id": "io62KR-lm4XI"
   },
   "outputs": [],
   "source": [
    "order_no = [int(i.split('_')[-1]) for i in Act_Test['Order No']]\n",
    "user_id = [int(i.split('_')[-1]) for i in Act_Test['User Id']]\n",
    "rider_id = [int(i.split('_')[-1]) for i in Act_Test['Rider Id']]\n",
    "Act_Test['Order No'] = pd.DataFrame(order_no)\n",
    "Act_Test['User Id'] = pd.DataFrame(user_id)\n",
    "Act_Test['Rider Id'] = pd.DataFrame(rider_id)\n",
    "order_no = [int(i.split('_')[-1]) for i in Act_Train['Order No']]\n",
    "user_id = [int(i.split('_')[-1]) for i in Act_Train['User Id']]\n",
    "rider_id = [int(i.split('_')[-1]) for i in Act_Train['Rider Id']]\n",
    "Act_Train['Order No'] = pd.DataFrame(order_no)\n",
    "Act_Train['User Id'] = pd.DataFrame(user_id)\n",
    "Act_Train['Rider Id'] = pd.DataFrame(rider_id)"
   ]
  },
  {
   "cell_type": "code",
   "execution_count": 0,
   "metadata": {
    "colab": {},
    "colab_type": "code",
    "id": "vwNq8B2Km4XS"
   },
   "outputs": [],
   "source": [
    "Act_Test['Pickup - Time'] = pd.to_timedelta(Act_Test['Pickup - Time'])\n",
    "Act_Test['Arrival at Pickup - Time'] = pd.to_timedelta(Act_Test['Arrival at Pickup - Time'])\n",
    "Act_Test['Time from Pickup to Arrival'] = abs(Act_Test['Pickup - Time'] - Act_Test['Arrival at Pickup - Time'])\n",
    "Act_Test['Time from Pickup to Arrival'] = Act_Test['Time from Pickup to Arrival'].dt.total_seconds().astype(int)"
   ]
  },
  {
   "cell_type": "code",
   "execution_count": 0,
   "metadata": {
    "colab": {},
    "colab_type": "code",
    "id": "I7zRHDfAm4Xc"
   },
   "outputs": [],
   "source": [
    "### where business= 1 and personal = 0\n",
    "Act_Train['Personal or Business']=pd.get_dummies(Act_Train['Personal or Business'])\n",
    "Act_Test['Personal or Business']=pd.get_dummies(Act_Test['Personal or Business'])"
   ]
  },
  {
   "cell_type": "code",
   "execution_count": 59,
   "metadata": {
    "colab": {
     "base_uri": "https://localhost:8080/",
     "height": 527
    },
    "colab_type": "code",
    "id": "k2humvy_m4Xk",
    "outputId": "e3f714e9-9787-49ce-b5e5-aa6289e6ab0a"
   },
   "outputs": [
    {
     "data": {
      "text/plain": [
       "Order No                                         0\n",
       "User Id                                          0\n",
       "Vehicle Type                                     0\n",
       "Platform Type                                    0\n",
       "Personal or Business                             0\n",
       "Placement - Day of Month                         0\n",
       "Placement - Weekday (Mo = 1)                     0\n",
       "Placement - Time                                 0\n",
       "Confirmation - Day of Month                      0\n",
       "Confirmation - Weekday (Mo = 1)                  0\n",
       "Confirmation - Time                              0\n",
       "Arrival at Pickup - Day of Month                 0\n",
       "Arrival at Pickup - Weekday (Mo = 1)             0\n",
       "Arrival at Pickup - Time                         0\n",
       "Pickup - Day of Month                            0\n",
       "Pickup - Weekday (Mo = 1)                        0\n",
       "Pickup - Time                                    0\n",
       "Arrival at Destination - Day of Month            0\n",
       "Arrival at Destination - Weekday (Mo = 1)        0\n",
       "Arrival at Destination - Time                    0\n",
       "Distance (KM)                                    0\n",
       "Temperature                                   4366\n",
       "Precipitation in millimeters                 20649\n",
       "Pickup Lat                                       0\n",
       "Pickup Long                                      0\n",
       "Destination Lat                                  0\n",
       "Destination Long                                 0\n",
       "Rider Id                                         0\n",
       "Time from Pickup to Arrival                      0\n",
       "dtype: int64"
      ]
     },
     "execution_count": 59,
     "metadata": {
      "tags": []
     },
     "output_type": "execute_result"
    }
   ],
   "source": [
    "Act_Train.isnull().sum()"
   ]
  },
  {
   "cell_type": "code",
   "execution_count": 0,
   "metadata": {
    "colab": {},
    "colab_type": "code",
    "id": "ddQAMrs5m4X0"
   },
   "outputs": [],
   "source": [
    "#### filling null values with mean including precipitation\n",
    "Act_Train['Temperature'] = Act_Train['Temperature'].fillna(Act_Train['Temperature'].mean())\n",
    "Act_Test['Temperature'] = Act_Test['Temperature'].fillna(Act_Test['Temperature'].mean())"
   ]
  },
  {
   "cell_type": "code",
   "execution_count": 61,
   "metadata": {
    "colab": {
     "base_uri": "https://localhost:8080/",
     "height": 34
    },
    "colab_type": "code",
    "id": "qGUWWrgBm4YJ",
    "outputId": "39c12507-0340-4979-bb80-2b6074a1dcb8"
   },
   "outputs": [
    {
     "data": {
      "text/plain": [
       "20649"
      ]
     },
     "execution_count": 61,
     "metadata": {
      "tags": []
     },
     "output_type": "execute_result"
    }
   ],
   "source": [
    "Act_Train.isnull().sum().sum()"
   ]
  },
  {
   "cell_type": "code",
   "execution_count": 62,
   "metadata": {
    "colab": {
     "base_uri": "https://localhost:8080/",
     "height": 282
    },
    "colab_type": "code",
    "id": "k5GiIfglm4Ym",
    "outputId": "39e97ac7-cdae-4528-8485-c4f9518a252f"
   },
   "outputs": [
    {
     "data": {
      "text/plain": [
       "<matplotlib.collections.PathCollection at 0x7f4485d46cf8>"
      ]
     },
     "execution_count": 62,
     "metadata": {
      "tags": []
     },
     "output_type": "execute_result"
    },
    {
     "data": {
      "image/png": "[encoded data removed]",
      "text/plain": [
       "<Figure size 432x288 with 1 Axes>"
      ]
     },
     "metadata": {
      "tags": []
     },
     "output_type": "display_data"
    }
   ],
   "source": [
    "plt.scatter(x=Act_Train['Temperature'],y=Act_Train['Order No'])"
   ]
  },
  {
   "cell_type": "code",
   "execution_count": 0,
   "metadata": {
    "colab": {},
    "colab_type": "code",
    "id": "gAVxKxiNm4Y5"
   },
   "outputs": [],
   "source": [
    "features = Act_Train.drop(columns=['Precipitation in millimeters','Time from Pickup to Arrival','Arrival at Destination - Day of Month','Arrival at Destination - Weekday (Mo = 1)','Arrival at Destination - Time', 'Pickup - Time', 'Arrival at Pickup - Time', 'Confirmation - Time', 'Placement - Time', 'Vehicle Type',])"
   ]
  },
  {
   "cell_type": "code",
   "execution_count": 64,
   "metadata": {
    "colab": {
     "base_uri": "https://localhost:8080/",
     "height": 357
    },
    "colab_type": "code",
    "id": "qqwOdv_Sm4ZE",
    "outputId": "eb60e8de-826f-4a20-c350-69af192c3a43"
   },
   "outputs": [
    {
     "data": {
      "text/plain": [
       "Order No                                0\n",
       "User Id                                 0\n",
       "Platform Type                           0\n",
       "Personal or Business                    0\n",
       "Placement - Day of Month                0\n",
       "Placement - Weekday (Mo = 1)            0\n",
       "Confirmation - Day of Month             0\n",
       "Confirmation - Weekday (Mo = 1)         0\n",
       "Arrival at Pickup - Day of Month        0\n",
       "Arrival at Pickup - Weekday (Mo = 1)    0\n",
       "Pickup - Day of Month                   0\n",
       "Pickup - Weekday (Mo = 1)               0\n",
       "Distance (KM)                           0\n",
       "Temperature                             0\n",
       "Pickup Lat                              0\n",
       "Pickup Long                             0\n",
       "Destination Lat                         0\n",
       "Destination Long                        0\n",
       "Rider Id                                0\n",
       "dtype: int64"
      ]
     },
     "execution_count": 64,
     "metadata": {
      "tags": []
     },
     "output_type": "execute_result"
    }
   ],
   "source": [
    "features.isnull().sum()"
   ]
  },
  {
   "cell_type": "code",
   "execution_count": 0,
   "metadata": {
    "colab": {},
    "colab_type": "code",
    "id": "w7SnWIVAm4ZZ"
   },
   "outputs": [],
   "source": [
    "x_act_train = features.values\n",
    "y_act_train = Act_Train['Time from Pickup to Arrival'].values"
   ]
  },
  {
   "cell_type": "code",
   "execution_count": 0,
   "metadata": {
    "colab": {},
    "colab_type": "code",
    "id": "zMSBT8Yjm4Zo"
   },
   "outputs": [],
   "source": [
    "y_test = Act_Test['Time from Pickup to Arrival'].values.reshape(-1,1)\n",
    "x_test = Act_Test.drop(columns=['Precipitation in millimeters','Time from Pickup to Arrival', 'Pickup - Time', 'Arrival at Pickup - Time', 'Confirmation - Time', 'Placement - Time', 'Vehicle Type']).values"
   ]
  },
  {
   "cell_type": "code",
   "execution_count": 67,
   "metadata": {
    "colab": {
     "base_uri": "https://localhost:8080/",
     "height": 238
    },
    "colab_type": "code",
    "id": "vfMTs0Ykm4Z4",
    "outputId": "5aca8615-f976-4ecf-b72a-f4cbc2b579ec"
   },
   "outputs": [
    {
     "data": {
      "text/plain": [
       "array([[ 1.92480000e+04,  3.35500000e+03,  3.00000000e+00, ...,\n",
       "        -1.30524910e+00,  3.68223899e+01,  1.92000000e+02],\n",
       "       [ 1.27360000e+04,  3.64700000e+03,  3.00000000e+00, ...,\n",
       "        -1.27700660e+00,  3.68239068e+01,  8.68000000e+02],\n",
       "       [ 7.68000000e+02,  2.15400000e+03,  3.00000000e+00, ...,\n",
       "        -1.27657360e+00,  3.68513646e+01,  2.60000000e+01],\n",
       "       ...,\n",
       "       [ 1.96900000e+03,  1.36000000e+02,  3.00000000e+00, ...,\n",
       "        -1.26496050e+00,  3.67981777e+01,  3.79000000e+02],\n",
       "       [ 1.05910000e+04,  1.97900000e+03,  3.00000000e+00, ...,\n",
       "        -1.27202690e+00,  3.68174107e+01,  4.74000000e+02],\n",
       "       [ 1.60300000e+03,  1.72100000e+03,  3.00000000e+00, ...,\n",
       "        -1.30040620e+00,  3.68297410e+01,  7.60000000e+01]])"
      ]
     },
     "execution_count": 67,
     "metadata": {
      "tags": []
     },
     "output_type": "execute_result"
    }
   ],
   "source": [
    "x_test"
   ]
  },
  {
   "cell_type": "code",
   "execution_count": 68,
   "metadata": {
    "colab": {
     "base_uri": "https://localhost:8080/",
     "height": 34
    },
    "colab_type": "code",
    "id": "pSFjJcq6m4aI",
    "outputId": "ea65e34d-9a0c-48e6-83d9-d73524b5a0f6"
   },
   "outputs": [
    {
     "name": "stdout",
     "output_type": "stream",
     "text": [
      "RMSE FOR LINEAR REGRESSION : 6582.100018293237\n"
     ]
    }
   ],
   "source": [
    "ln = LinearRegression(normalize=True)\n",
    "ln.fit(x_act_train, y_act_train)\n",
    "y_predict = ln.predict(x_test)\n",
    "RMSE = sqrt(mean_squared_error(y_test, y_predict))\n",
    "print(f'RMSE FOR LINEAR REGRESSION : {RMSE}')"
   ]
  },
  {
   "cell_type": "markdown",
   "metadata": {
    "colab_type": "text",
    "id": "EfnsWZ4um4aO"
   },
   "source": [
    "#### RMSE = 6582.122882318993"
   ]
  },
  {
   "cell_type": "code",
   "execution_count": 0,
   "metadata": {
    "colab": {},
    "colab_type": "code",
    "id": "EDdQPd-bm4aQ"
   },
   "outputs": [],
   "source": [
    "df = pd.DataFrame(y_predict,columns=['Predicted total time'])\n",
    "Actual = pd.DataFrame(Act_Test['Time from Pickup to Arrival'])\n",
    "Order = pd.DataFrame(Actual_Test['Order No'])\n",
    "j=Order.join(Actual)\n",
    "j.join(df).to_csv('sub3.csv')"
   ]
  },
  {
   "cell_type": "code",
   "execution_count": 70,
   "metadata": {
    "colab": {
     "base_uri": "https://localhost:8080/",
     "height": 51
    },
    "colab_type": "code",
    "id": "7r-ihZvgm4aZ",
    "outputId": "9ff6b692-2070-44d2-da89-6f2709a9aedf"
   },
   "outputs": [
    {
     "name": "stdout",
     "output_type": "stream",
     "text": [
      "ele.alpha_0.001\n",
      "ele.l1_ratio_0.9\n"
     ]
    }
   ],
   "source": [
    "ele = ElasticNetCV(cv=5,alphas=(0.1,0.01,0.005,0.0025,0.001),selection='random', l1_ratio = (0.1,0.25,0.5,0.75,0.8,0.9),normalize=True,random_state=1)\n",
    "ele.fit(x_act_train, y_act_train)\n",
    "print(f'ele.alpha_{ele.alpha_}')\n",
    "print(f'ele.l1_ratio_{ele.l1_ratio_}')"
   ]
  },
  {
   "cell_type": "code",
   "execution_count": 71,
   "metadata": {
    "colab": {
     "base_uri": "https://localhost:8080/",
     "height": 34
    },
    "colab_type": "code",
    "id": "xW9ev32-m4af",
    "outputId": "ca21a958-bea1-4eb4-99e6-1471c011398c"
   },
   "outputs": [
    {
     "name": "stdout",
     "output_type": "stream",
     "text": [
      "RMSE FOR ELASTICNET CV : 6567.221736627305\n"
     ]
    }
   ],
   "source": [
    "y_predicted = ele.predict(x_test)\n",
    "RMSE = sqrt(mean_squared_error(y_test, y_predicted))\n",
    "print(f'RMSE FOR ELASTICNET CV : {RMSE}')"
   ]
  },
  {
   "cell_type": "code",
   "execution_count": 0,
   "metadata": {
    "colab": {},
    "colab_type": "code",
    "id": "eQnTRA6Rm4ax"
   },
   "outputs": [],
   "source": [
    "df = pd.DataFrame(y_predicted,columns=['Predicted total time'])\n",
    "order =[f'Order_No_{i}' for i in Actual_Test['Order No']]\n",
    "order =pd.DataFrame(order,columns=['Order No'])\n",
    "Submission1 = order.join(df)\n",
    "Submission1.to_csv('Olang_Submission1.csv',index=False)"
   ]
  },
  {
   "cell_type": "code",
   "execution_count": 0,
   "metadata": {
    "colab": {},
    "colab_type": "code",
    "id": "uvr0Z17dm4a9"
   },
   "outputs": [],
   "source": [
    "from sklearn.neighbors import KNeighborsRegressor"
   ]
  },
  {
   "cell_type": "code",
   "execution_count": 74,
   "metadata": {
    "colab": {
     "base_uri": "https://localhost:8080/",
     "height": 34
    },
    "colab_type": "code",
    "id": "R7HW95Glm4bN",
    "outputId": "8786f4d5-281c-4867-b450-8eefe6622253"
   },
   "outputs": [
    {
     "name": "stdout",
     "output_type": "stream",
     "text": [
      "6569.0546595391515\n"
     ]
    }
   ],
   "source": [
    "kn = KNeighborsRegressor(103,p=1)\n",
    "kn.fit(x_act_train, y_act_train)\n",
    "y_predic = kn.predict(x_test)\n",
    "RMSE = sqrt(mean_squared_error(y_test, y_predic))\n",
    "print(RMSE)"
   ]
  },
  {
   "cell_type": "code",
   "execution_count": 75,
   "metadata": {
    "colab": {
     "base_uri": "https://localhost:8080/",
     "height": 282
    },
    "colab_type": "code",
    "id": "0832FtDqm4bX",
    "outputId": "606fe213-ceaf-4dcf-aa2d-3cd6ef1bd82e"
   },
   "outputs": [
    {
     "data": {
      "text/plain": [
       "<matplotlib.collections.PathCollection at 0x7f44862bf668>"
      ]
     },
     "execution_count": 75,
     "metadata": {
      "tags": []
     },
     "output_type": "execute_result"
    },
    {
     "data": {
      "image/png": "[encoded data removed]",
      "text/plain": [
       "<Figure size 432x288 with 1 Axes>"
      ]
     },
     "metadata": {
      "tags": []
     },
     "output_type": "display_data"
    }
   ],
   "source": [
    "plt.scatter(x=Order,y=df)"
   ]
  },
  {
   "cell_type": "markdown",
   "metadata": {
    "colab_type": "text",
    "id": "dbG4cxDAJfeG"
   },
   "source": [
    "deeplearning for regression"
   ]
  },
  {
   "cell_type": "code",
   "execution_count": 76,
   "metadata": {
    "colab": {
     "base_uri": "https://localhost:8080/",
     "height": 97
    },
    "colab_type": "code",
    "id": "zx51L4DZJdtY",
    "outputId": "1524ff78-1b0f-48c1-f0b3-61b03839d4f7"
   },
   "outputs": [
    {
     "name": "stderr",
     "output_type": "stream",
     "text": [
      "Using TensorFlow backend.\n"
     ]
    },
    {
     "data": {
      "text/html": [
       "<p style=\"color: red;\">\n",
       "The default version of TensorFlow in Colab will soon switch to TensorFlow 2.x.<br>\n",
       "We recommend you <a href=\"https://www.tensorflow.org/guide/migrate\" target=\"_blank\">upgrade</a> now \n",
       "or ensure your notebook will continue to use TensorFlow 1.x via the <code>%tensorflow_version 1.x</code> magic:\n",
       "<a href=\"https://colab.research.google.com/notebooks/tensorflow_version.ipynb\" target=\"_blank\">more info</a>.</p>\n"
      ],
      "text/plain": [
       "<IPython.core.display.HTML object>"
      ]
     },
     "metadata": {
      "tags": []
     },
     "output_type": "display_data"
    }
   ],
   "source": [
    "\n",
    "import pandas\n",
    "from keras.models import Sequential\n",
    "from keras.layers import Dense\n",
    "from keras.wrappers.scikit_learn import KerasRegressor\n",
    "from sklearn.model_selection import cross_val_score\n",
    "from sklearn.model_selection import KFold\n",
    "from sklearn.preprocessing import StandardScaler\n",
    "from sklearn.pipeline import Pipeline"
   ]
  },
  {
   "cell_type": "code",
   "execution_count": 77,
   "metadata": {
    "colab": {
     "base_uri": "https://localhost:8080/",
     "height": 34
    },
    "colab_type": "code",
    "id": "Y0dWOg5UKNMp",
    "outputId": "6d460057-6715-4365-a139-c7d9c3219a46"
   },
   "outputs": [
    {
     "data": {
      "text/plain": [
       "19"
      ]
     },
     "execution_count": 77,
     "metadata": {
      "tags": []
     },
     "output_type": "execute_result"
    }
   ],
   "source": [
    "x_act_train.shape[1]"
   ]
  },
  {
   "cell_type": "code",
   "execution_count": 0,
   "metadata": {
    "colab": {},
    "colab_type": "code",
    "id": "OMtkapnloPFD"
   },
   "outputs": [],
   "source": [
    "#####neural network\n",
    "from keras.callbacks import ModelCheckpoint\n",
    "from keras.models import Sequential\n",
    "from keras.layers import Dense, Activation, Flatten\n",
    "from sklearn.model_selection import train_test_split\n",
    "from sklearn.ensemble import RandomForestRegressor\n",
    "from sklearn.metrics import mean_absolute_error \n",
    "from matplotlib import pyplot as plt\n",
    "import seaborn as sb\n",
    "import matplotlib.pyplot as plt\n",
    "import pandas as pd\n",
    "import numpy as np\n",
    "import warnings \n",
    "warnings.filterwarnings('ignore')\n",
    "warnings.filterwarnings('ignore', category=DeprecationWarning)\n",
    "from xgboost import XGBRegressor"
   ]
  },
  {
   "cell_type": "markdown",
   "metadata": {
    "colab_type": "text",
    "id": "6Ir5uEQoP-CE"
   },
   "source": [
    "# New Section"
   ]
  },
  {
   "cell_type": "code",
   "execution_count": 0,
   "metadata": {
    "colab": {},
    "colab_type": "code",
    "id": "uneP7MmXq_uT"
   },
   "outputs": [],
   "source": [
    "train_X, val_X, train_y, val_y = train_test_split(x_act_train,y_act_train, test_size = 0.2, random_state = 14)\n",
    "\n"
   ]
  },
  {
   "cell_type": "code",
   "execution_count": 90,
   "metadata": {
    "colab": {
     "base_uri": "https://localhost:8080/",
     "height": 34
    },
    "colab_type": "code",
    "id": "d5-_0Mq9rIdr",
    "outputId": "3d876b15-2fa1-4d4c-fa19-4ba552d39bde"
   },
   "outputs": [
    {
     "name": "stdout",
     "output_type": "stream",
     "text": [
      "Random forest validation MAE =  582.7703607639708\n"
     ]
    }
   ],
   "source": [
    "model = RandomForestRegressor()\n",
    "model.fit(train_X,train_y)\n",
    "\n",
    "# Get the mean absolute error on the validation data\n",
    "predicted_prices = model.predict(val_X)\n",
    "MAE = mean_absolute_error(val_y , predicted_prices)\n",
    "print('Random forest validation MAE = ', MAE)"
   ]
  },
  {
   "cell_type": "code",
   "execution_count": 0,
   "metadata": {
    "colab": {},
    "colab_type": "code",
    "id": "-ev58zhgrP_F"
   },
   "outputs": [],
   "source": [
    "predicted_prices = model.predict(x_test)"
   ]
  },
  {
   "cell_type": "code",
   "execution_count": 0,
   "metadata": {
    "colab": {},
    "colab_type": "code",
    "id": "bx3ifqEY7j80"
   },
   "outputs": [],
   "source": [
    "import xgboost"
   ]
  },
  {
   "cell_type": "code",
   "execution_count": 93,
   "metadata": {
    "colab": {
     "base_uri": "https://localhost:8080/",
     "height": 190
    },
    "colab_type": "code",
    "id": "bnH32g5g7OCg",
    "outputId": "b566845a-fd46-4ad7-9358-8de66c742979"
   },
   "outputs": [
    {
     "name": "stdout",
     "output_type": "stream",
     "text": [
      "[04:33:51] WARNING: /workspace/src/objective/regression_obj.cu:152: reg:linear is now deprecated in favor of reg:squarederror.\n"
     ]
    },
    {
     "data": {
      "text/plain": [
       "XGBRegressor(base_score=0.5, booster='gbtree', colsample_bylevel=1,\n",
       "             colsample_bynode=1, colsample_bytree=1, gamma=0.5,\n",
       "             importance_type='gain', learning_rate=0.07, max_delta_step=0,\n",
       "             max_depth=1000, min_child_weight=1000000, missing=None,\n",
       "             n_estimators=43, n_jobs=1, nthread=None, objective='reg:linear',\n",
       "             random_state=0, reg_alpha=0.75, reg_lambda=0.45,\n",
       "             scale_pos_weight=1, seed=42, silent=None, subsample=1,\n",
       "             verbosity=1)"
      ]
     },
     "execution_count": 93,
     "metadata": {
      "tags": []
     },
     "output_type": "execute_result"
    }
   ],
   "source": [
    "best_xgb_model = xgboost.XGBRegressor(colsample_bytree=1,\n",
    "                 gamma=0.5,                 \n",
    "                 learning_rate=0.07,\n",
    "                 max_depth=1000,\n",
    "                 min_child_weight=1000000,\n",
    "                 n_estimators=43,                                                                    \n",
    "                 reg_alpha=0.75,\n",
    "                 reg_lambda=0.45,\n",
    "                 subsample=1,\n",
    "                 seed=42)\n",
    "best_xgb_model.fit(x_act_train,y_act_train,verbose=False)"
   ]
  },
  {
   "cell_type": "code",
   "execution_count": 0,
   "metadata": {
    "colab": {},
    "colab_type": "code",
    "id": "6ohXAcT877K0"
   },
   "outputs": [],
   "source": [
    "y_predd = best_xgb_model.predict(x_test)"
   ]
  },
  {
   "cell_type": "code",
   "execution_count": 95,
   "metadata": {
    "colab": {
     "base_uri": "https://localhost:8080/",
     "height": 34
    },
    "colab_type": "code",
    "id": "A9396TAf8lxm",
    "outputId": "6b8ed9ba-7c90-4043-d1ab-e9a4f179e3c0"
   },
   "outputs": [
    {
     "name": "stdout",
     "output_type": "stream",
     "text": [
      "XGBoost validation RMSE =  6572.0429103080505\n"
     ]
    }
   ],
   "source": [
    "RMSE = sqrt(mean_squared_error(y_test,y_predd))\n",
    "print('XGBoost validation RMSE = ',RMSE)"
   ]
  },
  {
   "cell_type": "code",
   "execution_count": 0,
   "metadata": {
    "colab": {},
    "colab_type": "code",
    "id": "-m9oH1zN8OAP"
   },
   "outputs": [],
   "source": [
    "y = pd.DataFrame(y_predd,columns=['Predicted total time'])\n",
    "orde = [f'Order_No_{i}' for i in Actual_Test['Order No']]\n",
    "orde = pd.DataFrame(orde,columns=['Order No'])\n",
    "Submission2 = orde.join(y)\n",
    "Submission2.to_csv('Castro_Olang_SubmissionXGBbb.csv',index=False)"
   ]
  },
  {
   "cell_type": "code",
   "execution_count": 99,
   "metadata": {
    "colab": {
     "base_uri": "https://localhost:8080/",
     "height": 71
    },
    "colab_type": "code",
    "id": "6Y--G_Uzrixn",
    "outputId": "063886eb-d215-49a8-fc8a-44411c504165"
   },
   "outputs": [
    {
     "name": "stdout",
     "output_type": "stream",
     "text": [
      "[04:34:28] WARNING: /workspace/src/objective/regression_obj.cu:152: reg:linear is now deprecated in favor of reg:squarederror.\n",
      "XGBoost validation RMSE =  6581.757805429911\n"
     ]
    }
   ],
   "source": [
    "XGBModel = XGBRegressor()\n",
    "XGBModel.fit(x_act_train,y_act_train , verbose=False)\n",
    "\n",
    "# Get the mean absolute error on the validation data :\n",
    "XGBpredictions = XGBModel.predict(x_test)\n",
    "RMSE = sqrt(mean_squared_error(y_test, XGBpredictions))\n",
    "print('XGBoost validation RMSE = ',RMSE)"
   ]
  },
  {
   "cell_type": "code",
   "execution_count": 0,
   "metadata": {
    "colab": {},
    "colab_type": "code",
    "id": "3dVoW6XpumjR"
   },
   "outputs": [],
   "source": [
    "yy = pd.DataFrame(XGBpredictions,columns=['Predicted total time'])\n",
    "orde = [f'Order_No_{i}' for i in Actual_Test['Order No']]\n",
    "orde = pd.DataFrame(orde,columns=['Order No'])\n",
    "Submission2 = orde.join(yy)\n",
    "Submission2.to_csv('Castro_Olang_SubmissionXGB.csv',index=False)"
   ]
  },
  {
   "cell_type": "markdown",
   "metadata": {
    "colab_type": "text",
    "id": "69gmz6ZkFNsP"
   },
   "source": [
    "indepth keras"
   ]
  },
  {
   "cell_type": "code",
   "execution_count": 0,
   "metadata": {
    "colab": {},
    "colab_type": "code",
    "id": "irftj5o5FLIL"
   },
   "outputs": [],
   "source": [
    "from keras.optimizers import Adam"
   ]
  },
  {
   "cell_type": "code",
   "execution_count": 0,
   "metadata": {
    "colab": {},
    "colab_type": "code",
    "id": "zhdvy_oRGy5y"
   },
   "outputs": [],
   "source": [
    "def create_mlp(dim, regress=False):\n",
    "\t# define our MLP network\n",
    "\tmodel = Sequential()\n",
    "\tmodel.add(Dense(8, input_dim=dim, activation=\"relu\"))\n",
    "\tmodel.add(Dense(4, activation=\"relu\"))\n",
    " \n",
    "\t# check to see if the regression node should be added\n",
    "\tif regress:\n",
    "\t\tmodel.add(Dense(1, activation=\"linear\"))\n",
    " \n",
    "\t# return our model\n",
    "\treturn model"
   ]
  },
  {
   "cell_type": "code",
   "execution_count": 0,
   "metadata": {
    "colab": {},
    "colab_type": "code",
    "id": "yueBUATeHXNm"
   },
   "outputs": [],
   "source": [
    "from keras.models import Model"
   ]
  },
  {
   "cell_type": "code",
   "execution_count": 0,
   "metadata": {
    "colab": {
     "base_uri": "https://localhost:8080/",
     "height": 1000
    },
    "colab_type": "code",
    "id": "gMWQu7vgF-yJ",
    "outputId": "818bd02f-cc77-4617-ad7a-136d09fe172d"
   },
   "outputs": [
    {
     "name": "stdout",
     "output_type": "stream",
     "text": [
      "WARNING:tensorflow:From /usr/local/lib/python3.6/dist-packages/keras/backend/tensorflow_backend.py:66: The name tf.get_default_graph is deprecated. Please use tf.compat.v1.get_default_graph instead.\n",
      "\n",
      "WARNING:tensorflow:From /usr/local/lib/python3.6/dist-packages/keras/backend/tensorflow_backend.py:541: The name tf.placeholder is deprecated. Please use tf.compat.v1.placeholder instead.\n",
      "\n",
      "WARNING:tensorflow:From /usr/local/lib/python3.6/dist-packages/keras/backend/tensorflow_backend.py:4432: The name tf.random_uniform is deprecated. Please use tf.random.uniform instead.\n",
      "\n",
      "WARNING:tensorflow:From /usr/local/lib/python3.6/dist-packages/keras/optimizers.py:793: The name tf.train.Optimizer is deprecated. Please use tf.compat.v1.train.Optimizer instead.\n",
      "\n",
      "[INFO] training model...\n",
      "WARNING:tensorflow:From /usr/local/lib/python3.6/dist-packages/keras/backend/tensorflow_backend.py:1033: The name tf.assign_add is deprecated. Please use tf.compat.v1.assign_add instead.\n",
      "\n",
      "WARNING:tensorflow:From /usr/local/lib/python3.6/dist-packages/keras/backend/tensorflow_backend.py:1020: The name tf.assign is deprecated. Please use tf.compat.v1.assign instead.\n",
      "\n",
      "WARNING:tensorflow:From /usr/local/lib/python3.6/dist-packages/keras/backend/tensorflow_backend.py:3005: The name tf.Session is deprecated. Please use tf.compat.v1.Session instead.\n",
      "\n",
      "Train on 21201 samples, validate on 7068 samples\n",
      "Epoch 1/270\n",
      "WARNING:tensorflow:From /usr/local/lib/python3.6/dist-packages/keras/backend/tensorflow_backend.py:190: The name tf.get_default_session is deprecated. Please use tf.compat.v1.get_default_session instead.\n",
      "\n",
      "WARNING:tensorflow:From /usr/local/lib/python3.6/dist-packages/keras/backend/tensorflow_backend.py:197: The name tf.ConfigProto is deprecated. Please use tf.compat.v1.ConfigProto instead.\n",
      "\n",
      "WARNING:tensorflow:From /usr/local/lib/python3.6/dist-packages/keras/backend/tensorflow_backend.py:207: The name tf.global_variables is deprecated. Please use tf.compat.v1.global_variables instead.\n",
      "\n",
      "WARNING:tensorflow:From /usr/local/lib/python3.6/dist-packages/keras/backend/tensorflow_backend.py:216: The name tf.is_variable_initialized is deprecated. Please use tf.compat.v1.is_variable_initialized instead.\n",
      "\n",
      "WARNING:tensorflow:From /usr/local/lib/python3.6/dist-packages/keras/backend/tensorflow_backend.py:223: The name tf.variables_initializer is deprecated. Please use tf.compat.v1.variables_initializer instead.\n",
      "\n",
      "21201/21201 [==============================] - 4s 195us/step - loss: 258.5495 - val_loss: 99.5233\n",
      "Epoch 2/270\n",
      "21201/21201 [==============================] - 4s 169us/step - loss: 99.0419 - val_loss: 99.6804\n",
      "Epoch 3/270\n",
      "21201/21201 [==============================] - 4s 170us/step - loss: 98.6848 - val_loss: 99.4736\n",
      "Epoch 4/270\n",
      "21201/21201 [==============================] - 4s 169us/step - loss: 98.3258 - val_loss: 99.3960\n",
      "Epoch 5/270\n",
      "21201/21201 [==============================] - 4s 167us/step - loss: 98.3018 - val_loss: 99.3945\n",
      "Epoch 6/270\n",
      "21201/21201 [==============================] - 4s 167us/step - loss: 98.3019 - val_loss: 99.3923\n",
      "Epoch 7/270\n",
      "21201/21201 [==============================] - 4s 167us/step - loss: 98.3018 - val_loss: 99.3930\n",
      "Epoch 8/270\n",
      "21201/21201 [==============================] - 4s 179us/step - loss: 98.3016 - val_loss: 99.3922\n",
      "Epoch 9/270\n",
      "21201/21201 [==============================] - 4s 176us/step - loss: 99.0289 - val_loss: 99.3902\n",
      "Epoch 10/270\n",
      "21201/21201 [==============================] - 4s 174us/step - loss: 98.3088 - val_loss: 99.3947\n",
      "Epoch 11/270\n",
      "21201/21201 [==============================] - 4s 165us/step - loss: 98.3020 - val_loss: 99.3922\n",
      "Epoch 12/270\n",
      "21201/21201 [==============================] - 4s 168us/step - loss: 98.3022 - val_loss: 99.3924\n",
      "Epoch 13/270\n",
      "21201/21201 [==============================] - 4s 167us/step - loss: 98.3018 - val_loss: 99.3905\n",
      "Epoch 14/270\n",
      "21201/21201 [==============================] - 4s 166us/step - loss: 98.3018 - val_loss: 99.3899\n",
      "Epoch 15/270\n",
      "21201/21201 [==============================] - 4s 169us/step - loss: 98.3018 - val_loss: 99.3883\n",
      "Epoch 16/270\n",
      "21201/21201 [==============================] - 4s 166us/step - loss: 98.3018 - val_loss: 99.3890\n",
      "Epoch 17/270\n",
      "21201/21201 [==============================] - 4s 167us/step - loss: 98.3015 - val_loss: 99.3874\n",
      "Epoch 18/270\n",
      "21201/21201 [==============================] - 4s 165us/step - loss: 98.4374 - val_loss: 99.3804\n",
      "Epoch 19/270\n",
      "21201/21201 [==============================] - 4s 168us/step - loss: 98.3015 - val_loss: 99.3875\n",
      "Epoch 20/270\n",
      "21201/21201 [==============================] - 4s 166us/step - loss: 98.3050 - val_loss: 99.3909\n",
      "Epoch 21/270\n",
      "21201/21201 [==============================] - 4s 165us/step - loss: 98.3007 - val_loss: 99.3859\n",
      "Epoch 22/270\n",
      "21201/21201 [==============================] - 4s 165us/step - loss: 98.3017 - val_loss: 99.3845\n",
      "Epoch 23/270\n",
      "21201/21201 [==============================] - 4s 167us/step - loss: 98.3019 - val_loss: 99.3846\n",
      "Epoch 24/270\n",
      "21201/21201 [==============================] - 4s 168us/step - loss: 98.3015 - val_loss: 99.3849\n",
      "Epoch 25/270\n",
      "21201/21201 [==============================] - 4s 168us/step - loss: 98.3017 - val_loss: 99.3841\n",
      "Epoch 26/270\n",
      "21201/21201 [==============================] - 4s 168us/step - loss: 98.3015 - val_loss: 99.3822\n",
      "Epoch 27/270\n",
      "21201/21201 [==============================] - 4s 168us/step - loss: 98.3016 - val_loss: 99.3828\n",
      "Epoch 28/270\n",
      "21201/21201 [==============================] - 4s 166us/step - loss: 98.3015 - val_loss: 99.3817\n",
      "Epoch 29/270\n",
      "21201/21201 [==============================] - 4s 166us/step - loss: 98.3015 - val_loss: 99.3811\n",
      "Epoch 30/270\n",
      "21201/21201 [==============================] - 4s 169us/step - loss: 98.3016 - val_loss: 99.3783\n",
      "Epoch 31/270\n",
      "21201/21201 [==============================] - 4s 181us/step - loss: 98.3016 - val_loss: 99.3771\n",
      "Epoch 32/270\n",
      "21201/21201 [==============================] - 4s 170us/step - loss: 98.3018 - val_loss: 99.3763\n",
      "Epoch 33/270\n",
      "21201/21201 [==============================] - 4s 167us/step - loss: 98.3014 - val_loss: 99.3757\n",
      "Epoch 34/270\n",
      "21201/21201 [==============================] - 4s 166us/step - loss: 98.3015 - val_loss: 99.3747\n",
      "Epoch 35/270\n",
      "21201/21201 [==============================] - 4s 165us/step - loss: 98.3016 - val_loss: 99.3743\n",
      "Epoch 36/270\n",
      "21201/21201 [==============================] - 4s 166us/step - loss: 98.3015 - val_loss: 99.3737\n",
      "Epoch 37/270\n",
      "21201/21201 [==============================] - 4s 167us/step - loss: 98.3015 - val_loss: 99.3731\n",
      "Epoch 38/270\n",
      "21201/21201 [==============================] - 3s 163us/step - loss: 98.3015 - val_loss: 99.3724\n",
      "Epoch 39/270\n",
      "21201/21201 [==============================] - 4s 165us/step - loss: 98.3014 - val_loss: 99.3720\n",
      "Epoch 40/270\n",
      "21201/21201 [==============================] - 4s 167us/step - loss: 98.3013 - val_loss: 99.3717\n",
      "Epoch 41/270\n",
      "21201/21201 [==============================] - 4s 166us/step - loss: 98.3015 - val_loss: 99.3713\n",
      "Epoch 42/270\n",
      "21201/21201 [==============================] - 4s 166us/step - loss: 98.3014 - val_loss: 99.3703\n",
      "Epoch 43/270\n",
      "21201/21201 [==============================] - 3s 165us/step - loss: 98.3015 - val_loss: 99.3698\n",
      "Epoch 44/270\n",
      "21201/21201 [==============================] - 4s 166us/step - loss: 98.3014 - val_loss: 99.3695\n",
      "Epoch 45/270\n",
      "21201/21201 [==============================] - 3s 165us/step - loss: 98.3015 - val_loss: 99.3684\n",
      "Epoch 46/270\n",
      "21201/21201 [==============================] - 4s 165us/step - loss: 98.3014 - val_loss: 99.3703\n",
      "Epoch 47/270\n",
      "21201/21201 [==============================] - 4s 166us/step - loss: 98.3014 - val_loss: 99.3706\n",
      "Epoch 48/270\n",
      "21201/21201 [==============================] - 4s 168us/step - loss: 98.3014 - val_loss: 99.3700\n",
      "Epoch 49/270\n",
      "21201/21201 [==============================] - 3s 164us/step - loss: 98.3013 - val_loss: 99.3700\n",
      "Epoch 50/270\n",
      "21201/21201 [==============================] - 4s 166us/step - loss: 98.3014 - val_loss: 99.3692\n",
      "Epoch 51/270\n",
      "21201/21201 [==============================] - 4s 166us/step - loss: 98.3015 - val_loss: 99.3677\n",
      "Epoch 52/270\n",
      "21201/21201 [==============================] - 4s 166us/step - loss: 98.3014 - val_loss: 99.3679\n",
      "Epoch 53/270\n",
      "21201/21201 [==============================] - 4s 167us/step - loss: 98.3014 - val_loss: 99.3681\n",
      "Epoch 54/270\n",
      "21201/21201 [==============================] - 4s 167us/step - loss: 98.3015 - val_loss: 99.3675\n",
      "Epoch 55/270\n",
      "21201/21201 [==============================] - 3s 164us/step - loss: 98.3014 - val_loss: 99.3672\n",
      "Epoch 56/270\n",
      "21201/21201 [==============================] - 4s 166us/step - loss: 98.3013 - val_loss: 99.3662\n",
      "Epoch 57/270\n",
      "21201/21201 [==============================] - 3s 164us/step - loss: 98.3014 - val_loss: 99.3660\n",
      "Epoch 58/270\n",
      "21201/21201 [==============================] - 3s 164us/step - loss: 98.3014 - val_loss: 99.3653\n",
      "Epoch 59/270\n",
      "21201/21201 [==============================] - 3s 165us/step - loss: 98.3013 - val_loss: 99.3651\n",
      "Epoch 60/270\n",
      "21201/21201 [==============================] - 3s 165us/step - loss: 98.3013 - val_loss: 99.3644\n",
      "Epoch 61/270\n",
      "21201/21201 [==============================] - 4s 166us/step - loss: 98.3012 - val_loss: 99.3637\n",
      "Epoch 62/270\n",
      "21201/21201 [==============================] - 4s 166us/step - loss: 98.3013 - val_loss: 99.3635\n",
      "Epoch 63/270\n",
      "21201/21201 [==============================] - 4s 166us/step - loss: 98.3013 - val_loss: 99.3623\n",
      "Epoch 64/270\n",
      "21201/21201 [==============================] - 4s 166us/step - loss: 98.3013 - val_loss: 99.3625\n",
      "Epoch 65/270\n",
      "21201/21201 [==============================] - 3s 164us/step - loss: 98.3013 - val_loss: 99.3619\n",
      "Epoch 66/270\n",
      "21201/21201 [==============================] - 3s 164us/step - loss: 98.3014 - val_loss: 99.3617\n",
      "Epoch 67/270\n",
      "21201/21201 [==============================] - 4s 166us/step - loss: 98.3014 - val_loss: 99.3603\n",
      "Epoch 68/270\n",
      "21201/21201 [==============================] - 3s 165us/step - loss: 98.3012 - val_loss: 99.3591\n",
      "Epoch 69/270\n",
      "21201/21201 [==============================] - 3s 163us/step - loss: 98.3013 - val_loss: 99.3583\n",
      "Epoch 70/270\n",
      "21201/21201 [==============================] - 3s 165us/step - loss: 98.3013 - val_loss: 99.3574\n",
      "Epoch 71/270\n",
      "21201/21201 [==============================] - 4s 169us/step - loss: 98.3013 - val_loss: 99.3562\n",
      "Epoch 72/270\n",
      "21201/21201 [==============================] - 3s 164us/step - loss: 98.3014 - val_loss: 99.3560\n",
      "Epoch 73/270\n",
      "21201/21201 [==============================] - 3s 163us/step - loss: 98.3012 - val_loss: 99.3553\n",
      "Epoch 74/270\n",
      "21201/21201 [==============================] - 3s 164us/step - loss: 98.3012 - val_loss: 99.3552\n",
      "Epoch 75/270\n",
      "21201/21201 [==============================] - 4s 167us/step - loss: 98.3013 - val_loss: 99.3543\n",
      "Epoch 76/270\n",
      "21201/21201 [==============================] - 4s 167us/step - loss: 98.3012 - val_loss: 99.3539\n",
      "Epoch 77/270\n",
      "21201/21201 [==============================] - 3s 165us/step - loss: 98.3013 - val_loss: 99.3534\n",
      "Epoch 78/270\n",
      "21201/21201 [==============================] - 3s 164us/step - loss: 98.3012 - val_loss: 99.3532\n",
      "Epoch 79/270\n",
      "21201/21201 [==============================] - 3s 165us/step - loss: 98.3012 - val_loss: 99.3527\n",
      "Epoch 80/270\n",
      "21201/21201 [==============================] - 3s 164us/step - loss: 98.3014 - val_loss: 99.3522\n",
      "Epoch 81/270\n",
      "21201/21201 [==============================] - 3s 165us/step - loss: 98.3012 - val_loss: 99.3511\n",
      "Epoch 82/270\n",
      "21201/21201 [==============================] - 3s 164us/step - loss: 98.3013 - val_loss: 99.3507\n",
      "Epoch 83/270\n",
      " 7128/21201 [=========>....................] - ETA: 1s - loss: 98.3814"
     ]
    }
   ],
   "source": [
    "model = create_mlp(x_act_train.shape[1], regress=True)\n",
    "opt = Adam(lr=1e-3, decay=1e-3 / 200)\n",
    "model.compile(loss=\"mean_absolute_percentage_error\", optimizer=opt)\n",
    " \n",
    "# train the model\n",
    "print(\"[INFO] training model...\")\n",
    "model.fit(x_act_train, y_act_train, validation_data=(x_test, y_test),\n",
    "\tepochs=270, batch_size=8)"
   ]
  },
  {
   "cell_type": "code",
   "execution_count": 0,
   "metadata": {
    "colab": {
     "base_uri": "https://localhost:8080/",
     "height": 34
    },
    "colab_type": "code",
    "id": "kHTI1cKRIuW7",
    "outputId": "0ec44abd-514e-4dca-aad8-81b3003e02f9"
   },
   "outputs": [
    {
     "name": "stdout",
     "output_type": "stream",
     "text": [
      "6802.129265764246\n"
     ]
    }
   ],
   "source": [
    "preds = model.predict(x_test)\n",
    "rmse = sqrt(mean_squared_error(preds, y_test))\n",
    "print(rmse)"
   ]
  },
  {
   "cell_type": "code",
   "execution_count": 0,
   "metadata": {
    "colab": {},
    "colab_type": "code",
    "id": "zLd1uJ0oMJ0O"
   },
   "outputs": [],
   "source": [
    "yy = pd.DataFrame(preds,columns=['Predicted total time'])\n",
    "orde = [f'Order_No_{i}' for i in Actual_Test['Order No']]\n",
    "orde = pd.DataFrame(orde,columns=['Order No'])\n",
    "Submission2 = orde.join(yy)\n",
    "Submission2.to_csv('Castro_Olang_Submissionxgb.csv',index=False)"
   ]
  },
  {
   "cell_type": "markdown",
   "metadata": {
    "colab_type": "text",
    "id": "RCDHurwoiwKQ"
   },
   "source": [
    "So far the best model has been the elastic net with the lowest Root Mean Squared Error of 6567, hence the best predictor for the delivery time for motorbikes "
   ]
  }
 ],
 "metadata": {
  "colab": {
   "include_colab_link": true,
   "name": "competition.ipynb",
   "provenance": [],
   "toc_visible": true
  },
  "kernelspec": {
   "display_name": "Python 3 (ipykernel)",
   "language": "python",
   "name": "python3"
  },
  "language_info": {
   "codemirror_mode": {
    "name": "ipython",
    "version": 3
   },
   "file_extension": ".py",
   "mimetype": "text/x-python",
   "name": "python",
   "nbconvert_exporter": "python",
   "pygments_lexer": "ipython3",
   "version": "3.10.9"
  }
 },
 "nbformat": 4,
 "nbformat_minor": 1
}
