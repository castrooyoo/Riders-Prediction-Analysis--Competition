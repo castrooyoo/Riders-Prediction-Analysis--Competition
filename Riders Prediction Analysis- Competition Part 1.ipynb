{
 "cells": [
  {
   "cell_type": "markdown",
   "metadata": {},
   "source": [
    "## 1. Using the attached dataset (train.csv) analyse the data and visualize the most important aspects using your preferred method. Furthermore, share three ideas on how to increase the % of Partners that accept. Document your steps where needed. "
   ]
  },
  {
   "cell_type": "markdown",
   "metadata": {},
   "source": [
    "### a. Data Analysis"
   ]
  },
  {
   "cell_type": "markdown",
   "metadata": {},
   "source": [
    "#### - Data Exploration"
   ]
  },
  {
   "cell_type": "code",
   "execution_count": 1124,
   "metadata": {},
   "outputs": [],
   "source": [
    "### import libraries will use for our analysis\n",
    "import numpy as np\n",
    "import pandas as pd\n",
    "import seaborn as sns\n",
    "import matplotlib as plt\n",
    "%matplotlib inline"
   ]
  },
  {
   "cell_type": "code",
   "execution_count": 1125,
   "metadata": {},
   "outputs": [],
   "source": [
    "### read my dataset(train.csv)\n",
    "df = pd.read_csv('Train.csv')"
   ]
  },
  {
   "cell_type": "code",
   "execution_count": 1126,
   "metadata": {},
   "outputs": [
    {
     "data": {
      "text/html": [
       "<div>\n",
       "<style scoped>\n",
       "    .dataframe tbody tr th:only-of-type {\n",
       "        vertical-align: middle;\n",
       "    }\n",
       "\n",
       "    .dataframe tbody tr th {\n",
       "        vertical-align: top;\n",
       "    }\n",
       "\n",
       "    .dataframe thead th {\n",
       "        text-align: right;\n",
       "    }\n",
       "</style>\n",
       "<table border=\"1\" class=\"dataframe\">\n",
       "  <thead>\n",
       "    <tr style=\"text-align: right;\">\n",
       "      <th></th>\n",
       "      <th>ID</th>\n",
       "      <th>order_id</th>\n",
       "      <th>dispatch_day</th>\n",
       "      <th>dispatch_day_of_week</th>\n",
       "      <th>dispatch_time</th>\n",
       "      <th>client_id</th>\n",
       "      <th>client_type</th>\n",
       "      <th>order_license_status</th>\n",
       "      <th>order_carrier_type</th>\n",
       "      <th>vendor_type</th>\n",
       "      <th>...</th>\n",
       "      <th>rider_license_status</th>\n",
       "      <th>rider_carrier_type</th>\n",
       "      <th>rider_amount</th>\n",
       "      <th>rider_lat</th>\n",
       "      <th>rider_long</th>\n",
       "      <th>pickup_lat</th>\n",
       "      <th>pickup_long</th>\n",
       "      <th>drop_off_lat</th>\n",
       "      <th>drop_off_long</th>\n",
       "      <th>target</th>\n",
       "    </tr>\n",
       "  </thead>\n",
       "  <tbody>\n",
       "    <tr>\n",
       "      <td>0</td>\n",
       "      <td>ID_SCUW21PVAU</td>\n",
       "      <td>4435</td>\n",
       "      <td>27</td>\n",
       "      <td>6</td>\n",
       "      <td>9:02:54</td>\n",
       "      <td>593630</td>\n",
       "      <td>Business</td>\n",
       "      <td>0</td>\n",
       "      <td>2</td>\n",
       "      <td>Bike</td>\n",
       "      <td>...</td>\n",
       "      <td>0</td>\n",
       "      <td>1</td>\n",
       "      <td>1080</td>\n",
       "      <td>-42.698343</td>\n",
       "      <td>-17.228539</td>\n",
       "      <td>-42.692371</td>\n",
       "      <td>-17.248305</td>\n",
       "      <td>-42.687442</td>\n",
       "      <td>-17.424682</td>\n",
       "      <td>1</td>\n",
       "    </tr>\n",
       "    <tr>\n",
       "      <td>1</td>\n",
       "      <td>ID_2HA7X30JMN</td>\n",
       "      <td>32711</td>\n",
       "      <td>30</td>\n",
       "      <td>7</td>\n",
       "      <td>13:01:37</td>\n",
       "      <td>837729</td>\n",
       "      <td>Personal</td>\n",
       "      <td>0</td>\n",
       "      <td>1</td>\n",
       "      <td>Bike</td>\n",
       "      <td>...</td>\n",
       "      <td>0</td>\n",
       "      <td>1</td>\n",
       "      <td>730</td>\n",
       "      <td>-42.787317</td>\n",
       "      <td>-17.288252</td>\n",
       "      <td>-42.784046</td>\n",
       "      <td>-17.290121</td>\n",
       "      <td>-42.673267</td>\n",
       "      <td>-17.234595</td>\n",
       "      <td>2</td>\n",
       "    </tr>\n",
       "    <tr>\n",
       "      <td>2</td>\n",
       "      <td>ID_IAJWDTBY6M</td>\n",
       "      <td>8712</td>\n",
       "      <td>14</td>\n",
       "      <td>2</td>\n",
       "      <td>10:01:00</td>\n",
       "      <td>695129</td>\n",
       "      <td>Personal</td>\n",
       "      <td>0</td>\n",
       "      <td>2</td>\n",
       "      <td>Bike</td>\n",
       "      <td>...</td>\n",
       "      <td>1</td>\n",
       "      <td>1</td>\n",
       "      <td>490</td>\n",
       "      <td>-42.749180</td>\n",
       "      <td>-17.287848</td>\n",
       "      <td>-42.765204</td>\n",
       "      <td>-17.293784</td>\n",
       "      <td>-42.813953</td>\n",
       "      <td>-17.294805</td>\n",
       "      <td>1</td>\n",
       "    </tr>\n",
       "    <tr>\n",
       "      <td>3</td>\n",
       "      <td>ID_LKSVPNYMTR</td>\n",
       "      <td>44869</td>\n",
       "      <td>22</td>\n",
       "      <td>3</td>\n",
       "      <td>14:11:16</td>\n",
       "      <td>1504660</td>\n",
       "      <td>Personal</td>\n",
       "      <td>0</td>\n",
       "      <td>2</td>\n",
       "      <td>Bike</td>\n",
       "      <td>...</td>\n",
       "      <td>1</td>\n",
       "      <td>1</td>\n",
       "      <td>510</td>\n",
       "      <td>-42.836266</td>\n",
       "      <td>-17.311920</td>\n",
       "      <td>-42.831913</td>\n",
       "      <td>-17.315311</td>\n",
       "      <td>-42.812409</td>\n",
       "      <td>-17.265441</td>\n",
       "      <td>2</td>\n",
       "    </tr>\n",
       "    <tr>\n",
       "      <td>4</td>\n",
       "      <td>ID_O7N8Y918YH</td>\n",
       "      <td>57590</td>\n",
       "      <td>27</td>\n",
       "      <td>5</td>\n",
       "      <td>16:11:38</td>\n",
       "      <td>36869</td>\n",
       "      <td>Business</td>\n",
       "      <td>0</td>\n",
       "      <td>2</td>\n",
       "      <td>Bike</td>\n",
       "      <td>...</td>\n",
       "      <td>0</td>\n",
       "      <td>0</td>\n",
       "      <td>400</td>\n",
       "      <td>-42.828195</td>\n",
       "      <td>-17.322818</td>\n",
       "      <td>-42.836056</td>\n",
       "      <td>-17.318111</td>\n",
       "      <td>-42.828517</td>\n",
       "      <td>-17.302052</td>\n",
       "      <td>0</td>\n",
       "    </tr>\n",
       "    <tr>\n",
       "      <td>5</td>\n",
       "      <td>ID_QG327RXJZ7</td>\n",
       "      <td>2374</td>\n",
       "      <td>22</td>\n",
       "      <td>5</td>\n",
       "      <td>8:12:54</td>\n",
       "      <td>75647</td>\n",
       "      <td>Business</td>\n",
       "      <td>0</td>\n",
       "      <td>1</td>\n",
       "      <td>Bike</td>\n",
       "      <td>...</td>\n",
       "      <td>1</td>\n",
       "      <td>1</td>\n",
       "      <td>400</td>\n",
       "      <td>-42.841559</td>\n",
       "      <td>-17.242244</td>\n",
       "      <td>-42.813452</td>\n",
       "      <td>-17.233333</td>\n",
       "      <td>-42.794423</td>\n",
       "      <td>-17.244687</td>\n",
       "      <td>0</td>\n",
       "    </tr>\n",
       "    <tr>\n",
       "      <td>6</td>\n",
       "      <td>ID_MRC2RIJGUA</td>\n",
       "      <td>7071</td>\n",
       "      <td>14</td>\n",
       "      <td>4</td>\n",
       "      <td>9:11:35</td>\n",
       "      <td>85261</td>\n",
       "      <td>Business</td>\n",
       "      <td>0</td>\n",
       "      <td>1</td>\n",
       "      <td>Bike</td>\n",
       "      <td>...</td>\n",
       "      <td>1</td>\n",
       "      <td>1</td>\n",
       "      <td>400</td>\n",
       "      <td>-42.816480</td>\n",
       "      <td>-17.277562</td>\n",
       "      <td>-42.805966</td>\n",
       "      <td>-17.287565</td>\n",
       "      <td>-42.802569</td>\n",
       "      <td>-17.252329</td>\n",
       "      <td>0</td>\n",
       "    </tr>\n",
       "    <tr>\n",
       "      <td>7</td>\n",
       "      <td>ID_HDUCBCXLC1</td>\n",
       "      <td>50041</td>\n",
       "      <td>3</td>\n",
       "      <td>3</td>\n",
       "      <td>15:09:26</td>\n",
       "      <td>151271</td>\n",
       "      <td>Business</td>\n",
       "      <td>0</td>\n",
       "      <td>1</td>\n",
       "      <td>Bike</td>\n",
       "      <td>...</td>\n",
       "      <td>0</td>\n",
       "      <td>1</td>\n",
       "      <td>420</td>\n",
       "      <td>-42.842417</td>\n",
       "      <td>-17.312222</td>\n",
       "      <td>-42.843415</td>\n",
       "      <td>-17.318960</td>\n",
       "      <td>-42.855423</td>\n",
       "      <td>-17.292512</td>\n",
       "      <td>0</td>\n",
       "    </tr>\n",
       "    <tr>\n",
       "      <td>8</td>\n",
       "      <td>ID_XZC11Y3PJL</td>\n",
       "      <td>46731</td>\n",
       "      <td>18</td>\n",
       "      <td>5</td>\n",
       "      <td>15:01:55</td>\n",
       "      <td>593630</td>\n",
       "      <td>Business</td>\n",
       "      <td>0</td>\n",
       "      <td>2</td>\n",
       "      <td>Bike</td>\n",
       "      <td>...</td>\n",
       "      <td>0</td>\n",
       "      <td>1</td>\n",
       "      <td>420</td>\n",
       "      <td>-42.776085</td>\n",
       "      <td>-17.289053</td>\n",
       "      <td>-42.781209</td>\n",
       "      <td>-17.297432</td>\n",
       "      <td>-42.737458</td>\n",
       "      <td>-17.278413</td>\n",
       "      <td>0</td>\n",
       "    </tr>\n",
       "    <tr>\n",
       "      <td>9</td>\n",
       "      <td>ID_T0VWF98B3X</td>\n",
       "      <td>2413</td>\n",
       "      <td>28</td>\n",
       "      <td>6</td>\n",
       "      <td>8:12:49</td>\n",
       "      <td>59363</td>\n",
       "      <td>Business</td>\n",
       "      <td>0</td>\n",
       "      <td>2</td>\n",
       "      <td>Bike</td>\n",
       "      <td>...</td>\n",
       "      <td>0</td>\n",
       "      <td>0</td>\n",
       "      <td>800</td>\n",
       "      <td>-42.825127</td>\n",
       "      <td>-17.279260</td>\n",
       "      <td>-42.831152</td>\n",
       "      <td>-17.276845</td>\n",
       "      <td>-42.968853</td>\n",
       "      <td>-17.283623</td>\n",
       "      <td>0</td>\n",
       "    </tr>\n",
       "  </tbody>\n",
       "</table>\n",
       "<p>10 rows × 21 columns</p>\n",
       "</div>"
      ],
      "text/plain": [
       "              ID  order_id  dispatch_day  dispatch_day_of_week dispatch_time  \\\n",
       "0  ID_SCUW21PVAU      4435            27                     6       9:02:54   \n",
       "1  ID_2HA7X30JMN     32711            30                     7      13:01:37   \n",
       "2  ID_IAJWDTBY6M      8712            14                     2      10:01:00   \n",
       "3  ID_LKSVPNYMTR     44869            22                     3      14:11:16   \n",
       "4  ID_O7N8Y918YH     57590            27                     5      16:11:38   \n",
       "5  ID_QG327RXJZ7      2374            22                     5       8:12:54   \n",
       "6  ID_MRC2RIJGUA      7071            14                     4       9:11:35   \n",
       "7  ID_HDUCBCXLC1     50041             3                     3      15:09:26   \n",
       "8  ID_XZC11Y3PJL     46731            18                     5      15:01:55   \n",
       "9  ID_T0VWF98B3X      2413            28                     6       8:12:49   \n",
       "\n",
       "   client_id client_type  order_license_status  order_carrier_type  \\\n",
       "0     593630    Business                     0                   2   \n",
       "1     837729    Personal                     0                   1   \n",
       "2     695129    Personal                     0                   2   \n",
       "3    1504660    Personal                     0                   2   \n",
       "4      36869    Business                     0                   2   \n",
       "5      75647    Business                     0                   1   \n",
       "6      85261    Business                     0                   1   \n",
       "7     151271    Business                     0                   1   \n",
       "8     593630    Business                     0                   2   \n",
       "9      59363    Business                     0                   2   \n",
       "\n",
       "  vendor_type  ...  rider_license_status  rider_carrier_type  rider_amount  \\\n",
       "0        Bike  ...                     0                   1          1080   \n",
       "1        Bike  ...                     0                   1           730   \n",
       "2        Bike  ...                     1                   1           490   \n",
       "3        Bike  ...                     1                   1           510   \n",
       "4        Bike  ...                     0                   0           400   \n",
       "5        Bike  ...                     1                   1           400   \n",
       "6        Bike  ...                     1                   1           400   \n",
       "7        Bike  ...                     0                   1           420   \n",
       "8        Bike  ...                     0                   1           420   \n",
       "9        Bike  ...                     0                   0           800   \n",
       "\n",
       "   rider_lat  rider_long  pickup_lat  pickup_long  drop_off_lat  \\\n",
       "0 -42.698343  -17.228539  -42.692371   -17.248305    -42.687442   \n",
       "1 -42.787317  -17.288252  -42.784046   -17.290121    -42.673267   \n",
       "2 -42.749180  -17.287848  -42.765204   -17.293784    -42.813953   \n",
       "3 -42.836266  -17.311920  -42.831913   -17.315311    -42.812409   \n",
       "4 -42.828195  -17.322818  -42.836056   -17.318111    -42.828517   \n",
       "5 -42.841559  -17.242244  -42.813452   -17.233333    -42.794423   \n",
       "6 -42.816480  -17.277562  -42.805966   -17.287565    -42.802569   \n",
       "7 -42.842417  -17.312222  -42.843415   -17.318960    -42.855423   \n",
       "8 -42.776085  -17.289053  -42.781209   -17.297432    -42.737458   \n",
       "9 -42.825127  -17.279260  -42.831152   -17.276845    -42.968853   \n",
       "\n",
       "   drop_off_long  target  \n",
       "0     -17.424682       1  \n",
       "1     -17.234595       2  \n",
       "2     -17.294805       1  \n",
       "3     -17.265441       2  \n",
       "4     -17.302052       0  \n",
       "5     -17.244687       0  \n",
       "6     -17.252329       0  \n",
       "7     -17.292512       0  \n",
       "8     -17.278413       0  \n",
       "9     -17.283623       0  \n",
       "\n",
       "[10 rows x 21 columns]"
      ]
     },
     "execution_count": 1126,
     "metadata": {},
     "output_type": "execute_result"
    }
   ],
   "source": [
    "### Looking at our train dataset top row\n",
    "df.head(10)"
   ]
  },
  {
   "cell_type": "code",
   "execution_count": 1127,
   "metadata": {},
   "outputs": [
    {
     "name": "stdout",
     "output_type": "stream",
     "text": [
      "<class 'pandas.core.frame.DataFrame'>\n",
      "RangeIndex: 179867 entries, 0 to 179866\n",
      "Data columns (total 21 columns):\n",
      "ID                      179867 non-null object\n",
      "order_id                179867 non-null int64\n",
      "dispatch_day            179867 non-null int64\n",
      "dispatch_day_of_week    179867 non-null int64\n",
      "dispatch_time           179867 non-null object\n",
      "client_id               179867 non-null int64\n",
      "client_type             179867 non-null object\n",
      "order_license_status    179867 non-null int64\n",
      "order_carrier_type      179867 non-null int64\n",
      "vendor_type             179867 non-null object\n",
      "rider_id                179867 non-null int64\n",
      "rider_license_status    179867 non-null int64\n",
      "rider_carrier_type      179867 non-null int64\n",
      "rider_amount            179867 non-null int64\n",
      "rider_lat               179867 non-null float64\n",
      "rider_long              179867 non-null float64\n",
      "pickup_lat              179867 non-null float64\n",
      "pickup_long             179867 non-null float64\n",
      "drop_off_lat            179867 non-null float64\n",
      "drop_off_long           179867 non-null float64\n",
      "target                  179867 non-null int64\n",
      "dtypes: float64(6), int64(11), object(4)\n",
      "memory usage: 28.8+ MB\n"
     ]
    }
   ],
   "source": [
    "### getting to understand the type of data our train dataset is\n",
    "df.info()"
   ]
  },
  {
   "cell_type": "code",
   "execution_count": 1128,
   "metadata": {},
   "outputs": [
    {
     "data": {
      "text/plain": [
       "0   2021-12-13 09:02:54\n",
       "1   2021-12-13 13:01:37\n",
       "2   2021-12-13 10:01:00\n",
       "Name: dispatch_time, dtype: datetime64[ns]"
      ]
     },
     "execution_count": 1128,
     "metadata": {},
     "output_type": "execute_result"
    }
   ],
   "source": [
    "### Since our dipatch_time column is an object yet its supposed to be a timestamp, we have have to convert the column then\n",
    "df.dispatch_time= pd.to_datetime(df.dispatch_time)\n",
    "df.dispatch_time.head(3)"
   ]
  },
  {
   "cell_type": "code",
   "execution_count": 1129,
   "metadata": {},
   "outputs": [
    {
     "data": {
      "text/html": [
       "<div>\n",
       "<style scoped>\n",
       "    .dataframe tbody tr th:only-of-type {\n",
       "        vertical-align: middle;\n",
       "    }\n",
       "\n",
       "    .dataframe tbody tr th {\n",
       "        vertical-align: top;\n",
       "    }\n",
       "\n",
       "    .dataframe thead th {\n",
       "        text-align: right;\n",
       "    }\n",
       "</style>\n",
       "<table border=\"1\" class=\"dataframe\">\n",
       "  <thead>\n",
       "    <tr style=\"text-align: right;\">\n",
       "      <th></th>\n",
       "      <th>order_id</th>\n",
       "      <th>dispatch_day</th>\n",
       "      <th>dispatch_day_of_week</th>\n",
       "      <th>client_id</th>\n",
       "      <th>order_license_status</th>\n",
       "      <th>order_carrier_type</th>\n",
       "      <th>rider_id</th>\n",
       "      <th>rider_license_status</th>\n",
       "      <th>rider_carrier_type</th>\n",
       "      <th>rider_amount</th>\n",
       "      <th>rider_lat</th>\n",
       "      <th>rider_long</th>\n",
       "      <th>pickup_lat</th>\n",
       "      <th>pickup_long</th>\n",
       "      <th>drop_off_lat</th>\n",
       "      <th>drop_off_long</th>\n",
       "      <th>target</th>\n",
       "    </tr>\n",
       "  </thead>\n",
       "  <tbody>\n",
       "    <tr>\n",
       "      <td>count</td>\n",
       "      <td>179867.000000</td>\n",
       "      <td>179867.000000</td>\n",
       "      <td>179867.000000</td>\n",
       "      <td>1.798670e+05</td>\n",
       "      <td>179867.000000</td>\n",
       "      <td>179867.000000</td>\n",
       "      <td>179867.000000</td>\n",
       "      <td>179867.000000</td>\n",
       "      <td>179867.000000</td>\n",
       "      <td>179867.000000</td>\n",
       "      <td>179867.000000</td>\n",
       "      <td>179867.000000</td>\n",
       "      <td>179867.000000</td>\n",
       "      <td>179867.000000</td>\n",
       "      <td>179867.000000</td>\n",
       "      <td>179867.000000</td>\n",
       "      <td>179867.000000</td>\n",
       "    </tr>\n",
       "    <tr>\n",
       "      <td>mean</td>\n",
       "      <td>32639.833149</td>\n",
       "      <td>16.604903</td>\n",
       "      <td>4.185198</td>\n",
       "      <td>4.654108e+05</td>\n",
       "      <td>0.239555</td>\n",
       "      <td>1.619007</td>\n",
       "      <td>70389.969944</td>\n",
       "      <td>0.589936</td>\n",
       "      <td>0.868731</td>\n",
       "      <td>517.544185</td>\n",
       "      <td>-42.817124</td>\n",
       "      <td>-17.286813</td>\n",
       "      <td>-42.817156</td>\n",
       "      <td>-17.286229</td>\n",
       "      <td>-42.814879</td>\n",
       "      <td>-17.282547</td>\n",
       "      <td>0.652843</td>\n",
       "    </tr>\n",
       "    <tr>\n",
       "      <td>std</td>\n",
       "      <td>18227.428596</td>\n",
       "      <td>8.528368</td>\n",
       "      <td>1.683574</td>\n",
       "      <td>6.634234e+05</td>\n",
       "      <td>0.426813</td>\n",
       "      <td>0.536552</td>\n",
       "      <td>33981.806096</td>\n",
       "      <td>0.491846</td>\n",
       "      <td>0.337695</td>\n",
       "      <td>157.385430</td>\n",
       "      <td>0.106837</td>\n",
       "      <td>0.100707</td>\n",
       "      <td>0.106425</td>\n",
       "      <td>0.100101</td>\n",
       "      <td>0.114158</td>\n",
       "      <td>0.103640</td>\n",
       "      <td>0.791099</td>\n",
       "    </tr>\n",
       "    <tr>\n",
       "      <td>min</td>\n",
       "      <td>100.000000</td>\n",
       "      <td>1.000000</td>\n",
       "      <td>1.000000</td>\n",
       "      <td>2.610000e+02</td>\n",
       "      <td>0.000000</td>\n",
       "      <td>0.000000</td>\n",
       "      <td>1817.000000</td>\n",
       "      <td>0.000000</td>\n",
       "      <td>0.000000</td>\n",
       "      <td>200.000000</td>\n",
       "      <td>-45.736540</td>\n",
       "      <td>-20.079067</td>\n",
       "      <td>-45.725110</td>\n",
       "      <td>-20.070241</td>\n",
       "      <td>-45.793523</td>\n",
       "      <td>-20.352897</td>\n",
       "      <td>0.000000</td>\n",
       "    </tr>\n",
       "    <tr>\n",
       "      <td>25%</td>\n",
       "      <td>16875.000000</td>\n",
       "      <td>9.000000</td>\n",
       "      <td>3.000000</td>\n",
       "      <td>7.564700e+04</td>\n",
       "      <td>0.000000</td>\n",
       "      <td>1.000000</td>\n",
       "      <td>40756.000000</td>\n",
       "      <td>0.000000</td>\n",
       "      <td>1.000000</td>\n",
       "      <td>410.000000</td>\n",
       "      <td>-42.832252</td>\n",
       "      <td>-17.301329</td>\n",
       "      <td>-42.829119</td>\n",
       "      <td>-17.299970</td>\n",
       "      <td>-42.830628</td>\n",
       "      <td>-17.301066</td>\n",
       "      <td>0.000000</td>\n",
       "    </tr>\n",
       "    <tr>\n",
       "      <td>50%</td>\n",
       "      <td>32964.000000</td>\n",
       "      <td>17.000000</td>\n",
       "      <td>4.000000</td>\n",
       "      <td>1.434280e+05</td>\n",
       "      <td>0.000000</td>\n",
       "      <td>2.000000</td>\n",
       "      <td>73485.000000</td>\n",
       "      <td>1.000000</td>\n",
       "      <td>1.000000</td>\n",
       "      <td>460.000000</td>\n",
       "      <td>-42.813961</td>\n",
       "      <td>-17.286776</td>\n",
       "      <td>-42.820037</td>\n",
       "      <td>-17.283554</td>\n",
       "      <td>-42.806976</td>\n",
       "      <td>-17.282880</td>\n",
       "      <td>0.000000</td>\n",
       "    </tr>\n",
       "    <tr>\n",
       "      <td>75%</td>\n",
       "      <td>48117.000000</td>\n",
       "      <td>24.000000</td>\n",
       "      <td>6.000000</td>\n",
       "      <td>5.936300e+05</td>\n",
       "      <td>0.000000</td>\n",
       "      <td>2.000000</td>\n",
       "      <td>100441.000000</td>\n",
       "      <td>1.000000</td>\n",
       "      <td>1.000000</td>\n",
       "      <td>570.000000</td>\n",
       "      <td>-42.791405</td>\n",
       "      <td>-17.264774</td>\n",
       "      <td>-42.789742</td>\n",
       "      <td>-17.263246</td>\n",
       "      <td>-42.783811</td>\n",
       "      <td>-17.259310</td>\n",
       "      <td>1.000000</td>\n",
       "    </tr>\n",
       "    <tr>\n",
       "      <td>max</td>\n",
       "      <td>64427.000000</td>\n",
       "      <td>31.000000</td>\n",
       "      <td>7.000000</td>\n",
       "      <td>2.568456e+06</td>\n",
       "      <td>1.000000</td>\n",
       "      <td>2.000000</td>\n",
       "      <td>123694.000000</td>\n",
       "      <td>1.000000</td>\n",
       "      <td>1.000000</td>\n",
       "      <td>2190.000000</td>\n",
       "      <td>-40.676917</td>\n",
       "      <td>-15.480446</td>\n",
       "      <td>-40.699055</td>\n",
       "      <td>-15.482671</td>\n",
       "      <td>-40.683763</td>\n",
       "      <td>-15.324765</td>\n",
       "      <td>2.000000</td>\n",
       "    </tr>\n",
       "  </tbody>\n",
       "</table>\n",
       "</div>"
      ],
      "text/plain": [
       "            order_id   dispatch_day  dispatch_day_of_week     client_id  \\\n",
       "count  179867.000000  179867.000000         179867.000000  1.798670e+05   \n",
       "mean    32639.833149      16.604903              4.185198  4.654108e+05   \n",
       "std     18227.428596       8.528368              1.683574  6.634234e+05   \n",
       "min       100.000000       1.000000              1.000000  2.610000e+02   \n",
       "25%     16875.000000       9.000000              3.000000  7.564700e+04   \n",
       "50%     32964.000000      17.000000              4.000000  1.434280e+05   \n",
       "75%     48117.000000      24.000000              6.000000  5.936300e+05   \n",
       "max     64427.000000      31.000000              7.000000  2.568456e+06   \n",
       "\n",
       "       order_license_status  order_carrier_type       rider_id  \\\n",
       "count         179867.000000       179867.000000  179867.000000   \n",
       "mean               0.239555            1.619007   70389.969944   \n",
       "std                0.426813            0.536552   33981.806096   \n",
       "min                0.000000            0.000000    1817.000000   \n",
       "25%                0.000000            1.000000   40756.000000   \n",
       "50%                0.000000            2.000000   73485.000000   \n",
       "75%                0.000000            2.000000  100441.000000   \n",
       "max                1.000000            2.000000  123694.000000   \n",
       "\n",
       "       rider_license_status  rider_carrier_type   rider_amount      rider_lat  \\\n",
       "count         179867.000000       179867.000000  179867.000000  179867.000000   \n",
       "mean               0.589936            0.868731     517.544185     -42.817124   \n",
       "std                0.491846            0.337695     157.385430       0.106837   \n",
       "min                0.000000            0.000000     200.000000     -45.736540   \n",
       "25%                0.000000            1.000000     410.000000     -42.832252   \n",
       "50%                1.000000            1.000000     460.000000     -42.813961   \n",
       "75%                1.000000            1.000000     570.000000     -42.791405   \n",
       "max                1.000000            1.000000    2190.000000     -40.676917   \n",
       "\n",
       "          rider_long     pickup_lat    pickup_long   drop_off_lat  \\\n",
       "count  179867.000000  179867.000000  179867.000000  179867.000000   \n",
       "mean      -17.286813     -42.817156     -17.286229     -42.814879   \n",
       "std         0.100707       0.106425       0.100101       0.114158   \n",
       "min       -20.079067     -45.725110     -20.070241     -45.793523   \n",
       "25%       -17.301329     -42.829119     -17.299970     -42.830628   \n",
       "50%       -17.286776     -42.820037     -17.283554     -42.806976   \n",
       "75%       -17.264774     -42.789742     -17.263246     -42.783811   \n",
       "max       -15.480446     -40.699055     -15.482671     -40.683763   \n",
       "\n",
       "       drop_off_long         target  \n",
       "count  179867.000000  179867.000000  \n",
       "mean      -17.282547       0.652843  \n",
       "std         0.103640       0.791099  \n",
       "min       -20.352897       0.000000  \n",
       "25%       -17.301066       0.000000  \n",
       "50%       -17.282880       0.000000  \n",
       "75%       -17.259310       1.000000  \n",
       "max       -15.324765       2.000000  "
      ]
     },
     "execution_count": 1129,
     "metadata": {},
     "output_type": "execute_result"
    }
   ],
   "source": [
    "### getting descriptive statistics summary about the numerical datasets\n",
    "df.describe()"
   ]
  },
  {
   "cell_type": "markdown",
   "metadata": {},
   "source": [
    "#### from the data we see most of dispatches happen around date 16 of the month which occurs mostly around Thursdays (4th day of the week)\n",
    "#### We also notice that the Rider_amount (amount partner rider earn on delivery) column indicates a positive skewed data since the mean of rider_amount (517) is larger than its median(460)"
   ]
  },
  {
   "cell_type": "markdown",
   "metadata": {},
   "source": [
    "#### Distribution Analysis - numerical data"
   ]
  },
  {
   "cell_type": "code",
   "execution_count": 1130,
   "metadata": {},
   "outputs": [
    {
     "data": {
      "text/plain": [
       "<matplotlib.axes._subplots.AxesSubplot at 0x208d0754508>"
      ]
     },
     "execution_count": 1130,
     "metadata": {},
     "output_type": "execute_result"
    },
    {
     "data": {
      "image/png": "[encoded data removed]",
      "text/plain": [
       "<Figure size 432x288 with 1 Axes>"
      ]
     },
     "metadata": {
      "needs_background": "light"
     },
     "output_type": "display_data"
    }
   ],
   "source": [
    "### getting to understand the distribution by starting with rider_amount\n",
    "df['rider_amount'].hist(bins=50)"
   ]
  },
  {
   "cell_type": "markdown",
   "metadata": {},
   "source": [
    "##### this clearly shows positive skewness in data which can be backed up with the descriptive statistics before, where the rider_amount mean being greater than its median\n",
    "##### From the data, that most partners earn less than 750 as compared to those earning above 750 when the complete successful delivery"
   ]
  },
  {
   "cell_type": "code",
   "execution_count": 1131,
   "metadata": {},
   "outputs": [
    {
     "data": {
      "text/plain": [
       "<matplotlib.axes._subplots.AxesSubplot at 0x208d0c9b648>"
      ]
     },
     "execution_count": 1131,
     "metadata": {},
     "output_type": "execute_result"
    },
    {
     "data": {
      "image/png": "[encoded data removed]",
      "text/plain": [
       "<Figure size 432x288 with 1 Axes>"
      ]
     },
     "metadata": {
      "needs_background": "light"
     },
     "output_type": "display_data"
    }
   ],
   "source": [
    "### To understand clearly the rider_amount data we introduce boxplot\n",
    "df.boxplot(column='rider_amount')"
   ]
  },
  {
   "cell_type": "markdown",
   "metadata": {},
   "source": [
    "#### - this confirms presence of alot of outliers, this maybe attributed to different client_type(business or person)\n",
    "### To asssist to better understand this we can segragate this boxplot for rider_amount by client_type "
   ]
  },
  {
   "cell_type": "code",
   "execution_count": 1132,
   "metadata": {},
   "outputs": [
    {
     "data": {
      "text/plain": [
       "<matplotlib.axes._subplots.AxesSubplot at 0x208d0cca588>"
      ]
     },
     "execution_count": 1132,
     "metadata": {},
     "output_type": "execute_result"
    },
    {
     "data": {
      "image/png": "[encoded data removed]",
      "text/plain": [
       "<Figure size 432x288 with 1 Axes>"
      ]
     },
     "metadata": {
      "needs_background": "light"
     },
     "output_type": "display_data"
    }
   ],
   "source": [
    "df.boxplot(column='rider_amount', by='client_type')"
   ]
  },
  {
   "cell_type": "markdown",
   "metadata": {},
   "source": [
    "##### - from this we can see that the customers -personal have slightly higher mean earnings as compared to the business related customers.\n",
    "##### - However our in both client_type category have very higher earnings,which are appearing to be outliers"
   ]
  },
  {
   "cell_type": "markdown",
   "metadata": {},
   "source": [
    "#### Categorical Data Analysis"
   ]
  },
  {
   "cell_type": "markdown",
   "metadata": {},
   "source": [
    "##### - Finding the frequency of client_type, order_carrier_type, order_license_status, rider_license_status,rider_carrier_type"
   ]
  },
  {
   "cell_type": "code",
   "execution_count": 1133,
   "metadata": {},
   "outputs": [
    {
     "name": "stdout",
     "output_type": "stream",
     "text": [
      "AxesSubplot(0.547727,0.125;0.352273x0.755) \n",
      "\n",
      "AxesSubplot(0.547727,0.125;0.352273x0.755) \n",
      "\n",
      "AxesSubplot(0.547727,0.125;0.352273x0.755) \n",
      "\n",
      "AxesSubplot(0.547727,0.125;0.352273x0.755) \n",
      "\n",
      "AxesSubplot(0.547727,0.125;0.352273x0.755) \n",
      "\n"
     ]
    },
    {
     "data": {
      "image/png": "[encoded data removed]",
      "text/plain": [
       "<Figure size 576x288 with 1 Axes>"
      ]
     },
     "metadata": {
      "needs_background": "light"
     },
     "output_type": "display_data"
    },
    {
     "data": {
      "image/png": "[encoded data removed]",
      "text/plain": [
       "<Figure size 576x288 with 1 Axes>"
      ]
     },
     "metadata": {
      "needs_background": "light"
     },
     "output_type": "display_data"
    },
    {
     "data": {
      "image/png": "[encoded data removed]",
      "text/plain": [
       "<Figure size 576x288 with 1 Axes>"
      ]
     },
     "metadata": {
      "needs_background": "light"
     },
     "output_type": "display_data"
    },
    {
     "data": {
      "image/png": "[encoded data removed]",
      "text/plain": [
       "<Figure size 576x288 with 1 Axes>"
      ]
     },
     "metadata": {
      "needs_background": "light"
     },
     "output_type": "display_data"
    },
    {
     "data": {
      "image/png": "[encoded data removed]",
      "text/plain": [
       "<Figure size 576x288 with 1 Axes>"
      ]
     },
     "metadata": {
      "needs_background": "light"
     },
     "output_type": "display_data"
    }
   ],
   "source": [
    "columns = ['client_type', 'order_carrier_type', 'order_license_status', 'rider_license_status', 'rider_carrier_type']\n",
    "x = 121\n",
    "x+=1    \n",
    "for i in columns:\n",
    "    col=df[i].value_counts()\n",
    "    #### visualizing this in barplots\n",
    "    import matplotlib.pyplot as plt\n",
    "    fig = plt.figure(figsize=(8,4))\n",
    "    ax = fig.add_subplot(x)\n",
    "    ax.set_xlabel(f'{i}')\n",
    "    ax.set_ylabel('Count of customers')\n",
    "    ax.set_title(f'\\n Frequency:\\n {col} \\nCustomers by {i}')\n",
    "    ## display the freuency and bar chart\n",
    "    print(f'{col.plot(kind=\"bar\")} \\n')"
   ]
  },
  {
   "cell_type": "markdown",
   "metadata": {},
   "source": [
    "##### Crosstab the categorical data with the target, this will assist in understanding how various feture related to the reaction of the rider in regards to a particular dispatch"
   ]
  },
  {
   "cell_type": "code",
   "execution_count": 1134,
   "metadata": {},
   "outputs": [
    {
     "name": "stdout",
     "output_type": "stream",
     "text": [
      "AxesSubplot(0.125,0.125;0.775x0.755) \n",
      "\n",
      "AxesSubplot(0.125,0.125;0.775x0.755) \n",
      "\n",
      "AxesSubplot(0.125,0.125;0.775x0.755) \n",
      "\n",
      "AxesSubplot(0.125,0.125;0.775x0.755) \n",
      "\n",
      "AxesSubplot(0.125,0.125;0.775x0.755) \n",
      "\n"
     ]
    },
    {
     "data": {
      "text/plain": [
       "<Figure size 1080x576 with 0 Axes>"
      ]
     },
     "metadata": {},
     "output_type": "display_data"
    },
    {
     "data": {
      "image/png": "[encoded data removed]",
      "text/plain": [
       "<Figure size 432x288 with 1 Axes>"
      ]
     },
     "metadata": {
      "needs_background": "light"
     },
     "output_type": "display_data"
    },
    {
     "data": {
      "text/plain": [
       "<Figure size 1080x576 with 0 Axes>"
      ]
     },
     "metadata": {},
     "output_type": "display_data"
    },
    {
     "data": {
      "image/png": "[encoded data removed]",
      "text/plain": [
       "<Figure size 432x288 with 1 Axes>"
      ]
     },
     "metadata": {
      "needs_background": "light"
     },
     "output_type": "display_data"
    },
    {
     "data": {
      "text/plain": [
       "<Figure size 1080x576 with 0 Axes>"
      ]
     },
     "metadata": {},
     "output_type": "display_data"
    },
    {
     "data": {
      "image/png": "[encoded data removed]",
      "text/plain": [
       "<Figure size 432x288 with 1 Axes>"
      ]
     },
     "metadata": {
      "needs_background": "light"
     },
     "output_type": "display_data"
    },
    {
     "data": {
      "text/plain": [
       "<Figure size 1080x576 with 0 Axes>"
      ]
     },
     "metadata": {},
     "output_type": "display_data"
    },
    {
     "data": {
      "image/png": "[encoded data removed]",
      "text/plain": [
       "<Figure size 432x288 with 1 Axes>"
      ]
     },
     "metadata": {
      "needs_background": "light"
     },
     "output_type": "display_data"
    },
    {
     "data": {
      "text/plain": [
       "<Figure size 1080x576 with 0 Axes>"
      ]
     },
     "metadata": {},
     "output_type": "display_data"
    },
    {
     "data": {
      "image/png": "[encoded data removed]",
      "text/plain": [
       "<Figure size 432x288 with 1 Axes>"
      ]
     },
     "metadata": {
      "needs_background": "light"
     },
     "output_type": "display_data"
    }
   ],
   "source": [
    "columns = ['client_type', 'order_carrier_type', 'order_license_status', 'rider_license_status', 'rider_carrier_type']\n",
    "y = 121\n",
    "y+=1\n",
    "f=df['target']\n",
    "        \n",
    "for j in columns:\n",
    "    colm=pd.crosstab(df[j],f)\n",
    "    #### visualizing this in barplots\n",
    "    import matplotlib.pyplot as plt\n",
    "    fig = plt.figure(figsize=(15,8))\n",
    "    ## display the freuency and bar chart\n",
    "    print(f'{colm.plot(kind=\"bar\",stacked=True,grid=False)} \\n')"
   ]
  },
  {
   "cell_type": "markdown",
   "metadata": {},
   "source": [
    "#### - from the above cross analysis you find that the rate of riders ignoring particular dispatch in a feature was high accounting for almost 50% of bar of subcategory "
   ]
  },
  {
   "cell_type": "markdown",
   "metadata": {},
   "source": [
    "### To check for any relationship between the datasets we will use pairplot to find any correlation between the columns"
   ]
  },
  {
   "cell_type": "markdown",
   "metadata": {},
   "source": [
    "##### - calculate the correlation matrix of the features of data and how they correlate to one another, this also assist in machine learning feature engineering"
   ]
  },
  {
   "cell_type": "code",
   "execution_count": 1135,
   "metadata": {},
   "outputs": [],
   "source": [
    "### remove columns not needed i.e. order_id,client_id, rider_id\n",
    "data = df.drop(labels = ['order_id',\"client_id\",\"rider_id\"],axis='columns')"
   ]
  },
  {
   "cell_type": "code",
   "execution_count": 1136,
   "metadata": {},
   "outputs": [],
   "source": [
    "correlation_matrix = data.corr()"
   ]
  },
  {
   "cell_type": "code",
   "execution_count": 1137,
   "metadata": {},
   "outputs": [
    {
     "data": {
      "text/html": [
       "<div>\n",
       "<style scoped>\n",
       "    .dataframe tbody tr th:only-of-type {\n",
       "        vertical-align: middle;\n",
       "    }\n",
       "\n",
       "    .dataframe tbody tr th {\n",
       "        vertical-align: top;\n",
       "    }\n",
       "\n",
       "    .dataframe thead th {\n",
       "        text-align: right;\n",
       "    }\n",
       "</style>\n",
       "<table border=\"1\" class=\"dataframe\">\n",
       "  <thead>\n",
       "    <tr style=\"text-align: right;\">\n",
       "      <th></th>\n",
       "      <th>dispatch_day</th>\n",
       "      <th>dispatch_day_of_week</th>\n",
       "      <th>order_license_status</th>\n",
       "      <th>order_carrier_type</th>\n",
       "      <th>rider_license_status</th>\n",
       "      <th>rider_carrier_type</th>\n",
       "      <th>rider_amount</th>\n",
       "      <th>rider_lat</th>\n",
       "      <th>rider_long</th>\n",
       "      <th>pickup_lat</th>\n",
       "      <th>pickup_long</th>\n",
       "      <th>drop_off_lat</th>\n",
       "      <th>drop_off_long</th>\n",
       "      <th>target</th>\n",
       "    </tr>\n",
       "  </thead>\n",
       "  <tbody>\n",
       "    <tr>\n",
       "      <td>dispatch_day</td>\n",
       "      <td>1.000000</td>\n",
       "      <td>-0.042488</td>\n",
       "      <td>0.012625</td>\n",
       "      <td>0.014123</td>\n",
       "      <td>0.009466</td>\n",
       "      <td>-0.004434</td>\n",
       "      <td>0.010065</td>\n",
       "      <td>-0.005688</td>\n",
       "      <td>-0.003430</td>\n",
       "      <td>-0.006340</td>\n",
       "      <td>-0.003201</td>\n",
       "      <td>-0.003291</td>\n",
       "      <td>-0.003128</td>\n",
       "      <td>-0.001308</td>\n",
       "    </tr>\n",
       "    <tr>\n",
       "      <td>dispatch_day_of_week</td>\n",
       "      <td>-0.042488</td>\n",
       "      <td>1.000000</td>\n",
       "      <td>-0.013864</td>\n",
       "      <td>-0.019226</td>\n",
       "      <td>-0.004414</td>\n",
       "      <td>0.001053</td>\n",
       "      <td>0.004447</td>\n",
       "      <td>-0.010683</td>\n",
       "      <td>-0.006819</td>\n",
       "      <td>-0.009943</td>\n",
       "      <td>-0.006364</td>\n",
       "      <td>-0.008065</td>\n",
       "      <td>-0.000028</td>\n",
       "      <td>0.001395</td>\n",
       "    </tr>\n",
       "    <tr>\n",
       "      <td>order_license_status</td>\n",
       "      <td>0.012625</td>\n",
       "      <td>-0.013864</td>\n",
       "      <td>1.000000</td>\n",
       "      <td>0.195899</td>\n",
       "      <td>0.467704</td>\n",
       "      <td>0.113604</td>\n",
       "      <td>-0.058041</td>\n",
       "      <td>-0.022029</td>\n",
       "      <td>0.017722</td>\n",
       "      <td>-0.021121</td>\n",
       "      <td>0.025555</td>\n",
       "      <td>-0.017327</td>\n",
       "      <td>0.013253</td>\n",
       "      <td>-0.076726</td>\n",
       "    </tr>\n",
       "    <tr>\n",
       "      <td>order_carrier_type</td>\n",
       "      <td>0.014123</td>\n",
       "      <td>-0.019226</td>\n",
       "      <td>0.195899</td>\n",
       "      <td>1.000000</td>\n",
       "      <td>0.106393</td>\n",
       "      <td>0.011211</td>\n",
       "      <td>0.018328</td>\n",
       "      <td>-0.008363</td>\n",
       "      <td>0.040508</td>\n",
       "      <td>-0.000765</td>\n",
       "      <td>0.041450</td>\n",
       "      <td>-0.023534</td>\n",
       "      <td>-0.004211</td>\n",
       "      <td>-0.011106</td>\n",
       "    </tr>\n",
       "    <tr>\n",
       "      <td>rider_license_status</td>\n",
       "      <td>0.009466</td>\n",
       "      <td>-0.004414</td>\n",
       "      <td>0.467704</td>\n",
       "      <td>0.106393</td>\n",
       "      <td>1.000000</td>\n",
       "      <td>0.286964</td>\n",
       "      <td>-0.027711</td>\n",
       "      <td>-0.018145</td>\n",
       "      <td>0.024066</td>\n",
       "      <td>-0.017882</td>\n",
       "      <td>0.027880</td>\n",
       "      <td>-0.006143</td>\n",
       "      <td>0.015262</td>\n",
       "      <td>-0.025937</td>\n",
       "    </tr>\n",
       "    <tr>\n",
       "      <td>rider_carrier_type</td>\n",
       "      <td>-0.004434</td>\n",
       "      <td>0.001053</td>\n",
       "      <td>0.113604</td>\n",
       "      <td>0.011211</td>\n",
       "      <td>0.286964</td>\n",
       "      <td>1.000000</td>\n",
       "      <td>-0.067175</td>\n",
       "      <td>0.068990</td>\n",
       "      <td>0.049431</td>\n",
       "      <td>0.069593</td>\n",
       "      <td>0.053466</td>\n",
       "      <td>0.049258</td>\n",
       "      <td>0.046095</td>\n",
       "      <td>0.024563</td>\n",
       "    </tr>\n",
       "    <tr>\n",
       "      <td>rider_amount</td>\n",
       "      <td>0.010065</td>\n",
       "      <td>0.004447</td>\n",
       "      <td>-0.058041</td>\n",
       "      <td>0.018328</td>\n",
       "      <td>-0.027711</td>\n",
       "      <td>-0.067175</td>\n",
       "      <td>1.000000</td>\n",
       "      <td>-0.033229</td>\n",
       "      <td>-0.007061</td>\n",
       "      <td>-0.033394</td>\n",
       "      <td>-0.007145</td>\n",
       "      <td>-0.075227</td>\n",
       "      <td>0.012466</td>\n",
       "      <td>0.123772</td>\n",
       "    </tr>\n",
       "    <tr>\n",
       "      <td>rider_lat</td>\n",
       "      <td>-0.005688</td>\n",
       "      <td>-0.010683</td>\n",
       "      <td>-0.022029</td>\n",
       "      <td>-0.008363</td>\n",
       "      <td>-0.018145</td>\n",
       "      <td>0.068990</td>\n",
       "      <td>-0.033229</td>\n",
       "      <td>1.000000</td>\n",
       "      <td>0.914423</td>\n",
       "      <td>0.994349</td>\n",
       "      <td>0.915676</td>\n",
       "      <td>0.870438</td>\n",
       "      <td>0.874255</td>\n",
       "      <td>-0.019695</td>\n",
       "    </tr>\n",
       "    <tr>\n",
       "      <td>rider_long</td>\n",
       "      <td>-0.003430</td>\n",
       "      <td>-0.006819</td>\n",
       "      <td>0.017722</td>\n",
       "      <td>0.040508</td>\n",
       "      <td>0.024066</td>\n",
       "      <td>0.049431</td>\n",
       "      <td>-0.007061</td>\n",
       "      <td>0.914423</td>\n",
       "      <td>1.000000</td>\n",
       "      <td>0.928259</td>\n",
       "      <td>0.993747</td>\n",
       "      <td>0.852945</td>\n",
       "      <td>0.909791</td>\n",
       "      <td>-0.023646</td>\n",
       "    </tr>\n",
       "    <tr>\n",
       "      <td>pickup_lat</td>\n",
       "      <td>-0.006340</td>\n",
       "      <td>-0.009943</td>\n",
       "      <td>-0.021121</td>\n",
       "      <td>-0.000765</td>\n",
       "      <td>-0.017882</td>\n",
       "      <td>0.069593</td>\n",
       "      <td>-0.033394</td>\n",
       "      <td>0.994349</td>\n",
       "      <td>0.928259</td>\n",
       "      <td>1.000000</td>\n",
       "      <td>0.928272</td>\n",
       "      <td>0.874896</td>\n",
       "      <td>0.881132</td>\n",
       "      <td>-0.019450</td>\n",
       "    </tr>\n",
       "    <tr>\n",
       "      <td>pickup_long</td>\n",
       "      <td>-0.003201</td>\n",
       "      <td>-0.006364</td>\n",
       "      <td>0.025555</td>\n",
       "      <td>0.041450</td>\n",
       "      <td>0.027880</td>\n",
       "      <td>0.053466</td>\n",
       "      <td>-0.007145</td>\n",
       "      <td>0.915676</td>\n",
       "      <td>0.993747</td>\n",
       "      <td>0.928272</td>\n",
       "      <td>1.000000</td>\n",
       "      <td>0.856579</td>\n",
       "      <td>0.915847</td>\n",
       "      <td>-0.024933</td>\n",
       "    </tr>\n",
       "    <tr>\n",
       "      <td>drop_off_lat</td>\n",
       "      <td>-0.003291</td>\n",
       "      <td>-0.008065</td>\n",
       "      <td>-0.017327</td>\n",
       "      <td>-0.023534</td>\n",
       "      <td>-0.006143</td>\n",
       "      <td>0.049258</td>\n",
       "      <td>-0.075227</td>\n",
       "      <td>0.870438</td>\n",
       "      <td>0.852945</td>\n",
       "      <td>0.874896</td>\n",
       "      <td>0.856579</td>\n",
       "      <td>1.000000</td>\n",
       "      <td>0.816907</td>\n",
       "      <td>-0.013562</td>\n",
       "    </tr>\n",
       "    <tr>\n",
       "      <td>drop_off_long</td>\n",
       "      <td>-0.003128</td>\n",
       "      <td>-0.000028</td>\n",
       "      <td>0.013253</td>\n",
       "      <td>-0.004211</td>\n",
       "      <td>0.015262</td>\n",
       "      <td>0.046095</td>\n",
       "      <td>0.012466</td>\n",
       "      <td>0.874255</td>\n",
       "      <td>0.909791</td>\n",
       "      <td>0.881132</td>\n",
       "      <td>0.915847</td>\n",
       "      <td>0.816907</td>\n",
       "      <td>1.000000</td>\n",
       "      <td>-0.019814</td>\n",
       "    </tr>\n",
       "    <tr>\n",
       "      <td>target</td>\n",
       "      <td>-0.001308</td>\n",
       "      <td>0.001395</td>\n",
       "      <td>-0.076726</td>\n",
       "      <td>-0.011106</td>\n",
       "      <td>-0.025937</td>\n",
       "      <td>0.024563</td>\n",
       "      <td>0.123772</td>\n",
       "      <td>-0.019695</td>\n",
       "      <td>-0.023646</td>\n",
       "      <td>-0.019450</td>\n",
       "      <td>-0.024933</td>\n",
       "      <td>-0.013562</td>\n",
       "      <td>-0.019814</td>\n",
       "      <td>1.000000</td>\n",
       "    </tr>\n",
       "  </tbody>\n",
       "</table>\n",
       "</div>"
      ],
      "text/plain": [
       "                      dispatch_day  dispatch_day_of_week  \\\n",
       "dispatch_day              1.000000             -0.042488   \n",
       "dispatch_day_of_week     -0.042488              1.000000   \n",
       "order_license_status      0.012625             -0.013864   \n",
       "order_carrier_type        0.014123             -0.019226   \n",
       "rider_license_status      0.009466             -0.004414   \n",
       "rider_carrier_type       -0.004434              0.001053   \n",
       "rider_amount              0.010065              0.004447   \n",
       "rider_lat                -0.005688             -0.010683   \n",
       "rider_long               -0.003430             -0.006819   \n",
       "pickup_lat               -0.006340             -0.009943   \n",
       "pickup_long              -0.003201             -0.006364   \n",
       "drop_off_lat             -0.003291             -0.008065   \n",
       "drop_off_long            -0.003128             -0.000028   \n",
       "target                   -0.001308              0.001395   \n",
       "\n",
       "                      order_license_status  order_carrier_type  \\\n",
       "dispatch_day                      0.012625            0.014123   \n",
       "dispatch_day_of_week             -0.013864           -0.019226   \n",
       "order_license_status              1.000000            0.195899   \n",
       "order_carrier_type                0.195899            1.000000   \n",
       "rider_license_status              0.467704            0.106393   \n",
       "rider_carrier_type                0.113604            0.011211   \n",
       "rider_amount                     -0.058041            0.018328   \n",
       "rider_lat                        -0.022029           -0.008363   \n",
       "rider_long                        0.017722            0.040508   \n",
       "pickup_lat                       -0.021121           -0.000765   \n",
       "pickup_long                       0.025555            0.041450   \n",
       "drop_off_lat                     -0.017327           -0.023534   \n",
       "drop_off_long                     0.013253           -0.004211   \n",
       "target                           -0.076726           -0.011106   \n",
       "\n",
       "                      rider_license_status  rider_carrier_type  rider_amount  \\\n",
       "dispatch_day                      0.009466           -0.004434      0.010065   \n",
       "dispatch_day_of_week             -0.004414            0.001053      0.004447   \n",
       "order_license_status              0.467704            0.113604     -0.058041   \n",
       "order_carrier_type                0.106393            0.011211      0.018328   \n",
       "rider_license_status              1.000000            0.286964     -0.027711   \n",
       "rider_carrier_type                0.286964            1.000000     -0.067175   \n",
       "rider_amount                     -0.027711           -0.067175      1.000000   \n",
       "rider_lat                        -0.018145            0.068990     -0.033229   \n",
       "rider_long                        0.024066            0.049431     -0.007061   \n",
       "pickup_lat                       -0.017882            0.069593     -0.033394   \n",
       "pickup_long                       0.027880            0.053466     -0.007145   \n",
       "drop_off_lat                     -0.006143            0.049258     -0.075227   \n",
       "drop_off_long                     0.015262            0.046095      0.012466   \n",
       "target                           -0.025937            0.024563      0.123772   \n",
       "\n",
       "                      rider_lat  rider_long  pickup_lat  pickup_long  \\\n",
       "dispatch_day          -0.005688   -0.003430   -0.006340    -0.003201   \n",
       "dispatch_day_of_week  -0.010683   -0.006819   -0.009943    -0.006364   \n",
       "order_license_status  -0.022029    0.017722   -0.021121     0.025555   \n",
       "order_carrier_type    -0.008363    0.040508   -0.000765     0.041450   \n",
       "rider_license_status  -0.018145    0.024066   -0.017882     0.027880   \n",
       "rider_carrier_type     0.068990    0.049431    0.069593     0.053466   \n",
       "rider_amount          -0.033229   -0.007061   -0.033394    -0.007145   \n",
       "rider_lat              1.000000    0.914423    0.994349     0.915676   \n",
       "rider_long             0.914423    1.000000    0.928259     0.993747   \n",
       "pickup_lat             0.994349    0.928259    1.000000     0.928272   \n",
       "pickup_long            0.915676    0.993747    0.928272     1.000000   \n",
       "drop_off_lat           0.870438    0.852945    0.874896     0.856579   \n",
       "drop_off_long          0.874255    0.909791    0.881132     0.915847   \n",
       "target                -0.019695   -0.023646   -0.019450    -0.024933   \n",
       "\n",
       "                      drop_off_lat  drop_off_long    target  \n",
       "dispatch_day             -0.003291      -0.003128 -0.001308  \n",
       "dispatch_day_of_week     -0.008065      -0.000028  0.001395  \n",
       "order_license_status     -0.017327       0.013253 -0.076726  \n",
       "order_carrier_type       -0.023534      -0.004211 -0.011106  \n",
       "rider_license_status     -0.006143       0.015262 -0.025937  \n",
       "rider_carrier_type        0.049258       0.046095  0.024563  \n",
       "rider_amount             -0.075227       0.012466  0.123772  \n",
       "rider_lat                 0.870438       0.874255 -0.019695  \n",
       "rider_long                0.852945       0.909791 -0.023646  \n",
       "pickup_lat                0.874896       0.881132 -0.019450  \n",
       "pickup_long               0.856579       0.915847 -0.024933  \n",
       "drop_off_lat              1.000000       0.816907 -0.013562  \n",
       "drop_off_long             0.816907       1.000000 -0.019814  \n",
       "target                   -0.013562      -0.019814  1.000000  "
      ]
     },
     "execution_count": 1137,
     "metadata": {},
     "output_type": "execute_result"
    }
   ],
   "source": [
    "correlation_matrix #the matrix"
   ]
  },
  {
   "cell_type": "code",
   "execution_count": 1138,
   "metadata": {},
   "outputs": [
    {
     "data": {
      "text/plain": [
       "<matplotlib.axes._subplots.AxesSubplot at 0x208d4fe7c48>"
      ]
     },
     "execution_count": 1138,
     "metadata": {},
     "output_type": "execute_result"
    },
    {
     "data": {
      "image/png": "[encoded data removed]",
      "text/plain": [
       "<Figure size 1080x720 with 2 Axes>"
      ]
     },
     "metadata": {
      "needs_background": "light"
     },
     "output_type": "display_data"
    }
   ],
   "source": [
    "### creating a heat map to visualie the correlation between variables\n",
    "plt.figure(figsize=(15,10),)\n",
    "mask = np.zeros_like(data.corr())\n",
    "mask[np.triu_indices_from(mask)]=True\n",
    "sns.heatmap(data.corr(),annot =True,mask = mask,vmax=.5,vmin=-1,center=0,square=True)"
   ]
  },
  {
   "cell_type": "markdown",
   "metadata": {},
   "source": [
    "##### - for both the heat map and correlation_matrix it clearly shows very low correlation between variables and the target variable, where the rider_amount variable is the closest such that, the closeness to rider acceptance to dispatch the higher the amount the partner rider is going to earn (positive correlation - 0.12)"
   ]
  },
  {
   "cell_type": "markdown",
   "metadata": {},
   "source": [
    "### Data Munging- this where based on the data noisiness we will have to clean for better analysis"
   ]
  },
  {
   "cell_type": "code",
   "execution_count": 1139,
   "metadata": {},
   "outputs": [
    {
     "data": {
      "text/plain": [
       "ID                      0\n",
       "order_id                0\n",
       "dispatch_day            0\n",
       "dispatch_day_of_week    0\n",
       "dispatch_time           0\n",
       "client_id               0\n",
       "client_type             0\n",
       "order_license_status    0\n",
       "order_carrier_type      0\n",
       "vendor_type             0\n",
       "rider_id                0\n",
       "rider_license_status    0\n",
       "rider_carrier_type      0\n",
       "rider_amount            0\n",
       "rider_lat               0\n",
       "rider_long              0\n",
       "pickup_lat              0\n",
       "pickup_long             0\n",
       "drop_off_lat            0\n",
       "drop_off_long           0\n",
       "target                  0\n",
       "dtype: int64"
      ]
     },
     "execution_count": 1139,
     "metadata": {},
     "output_type": "execute_result"
    }
   ],
   "source": [
    "#### Check if their missing values in our data\n",
    "df.isnull().sum()"
   ]
  },
  {
   "cell_type": "markdown",
   "metadata": {},
   "source": [
    "##### our data has no missing values"
   ]
  },
  {
   "cell_type": "markdown",
   "metadata": {},
   "source": [
    "#### tackling the outliers in the rider_amount column, we will apply log transformation to nullify  their effective"
   ]
  },
  {
   "cell_type": "code",
   "execution_count": 1140,
   "metadata": {},
   "outputs": [
    {
     "data": {
      "text/plain": [
       "<matplotlib.axes._subplots.AxesSubplot at 0x208c3db9dc8>"
      ]
     },
     "execution_count": 1140,
     "metadata": {},
     "output_type": "execute_result"
    },
    {
     "data": {
      "image/png": "[encoded data removed]",
      "text/plain": [
       "<Figure size 432x288 with 1 Axes>"
      ]
     },
     "metadata": {
      "needs_background": "light"
     },
     "output_type": "display_data"
    }
   ],
   "source": [
    "df['rider_amount_log']=np.log(df['rider_amount'])\n",
    "df['rider_amount_log'].hist(bins=50)"
   ]
  },
  {
   "cell_type": "markdown",
   "metadata": {},
   "source": [
    "#### Still the outliers are there (skew), we will have to identify the outliers and remove them from our data"
   ]
  },
  {
   "cell_type": "code",
   "execution_count": 1141,
   "metadata": {},
   "outputs": [
    {
     "name": "stdout",
     "output_type": "stream",
     "text": [
      "Old shape: (179867, 22)\n",
      "New shape: (169678, 22)\n"
     ]
    }
   ],
   "source": [
    "### identifying and removing the outliers\n",
    "### Detection\n",
    "Q1 = np.percentile(df['rider_amount'],25,interpolation='midpoint')\n",
    "Q3 = np.percentile(df['rider_amount'],75,interpolation='midpoint')\n",
    "### solve for IQR\n",
    "IQR = Q3 - Q1\n",
    "print('Old shape:',df.shape)\n",
    "###Upper bound\n",
    "upper = np.where(df['rider_amount']>= Q3+1.5*IQR)\n",
    "\n",
    "### lower bound\n",
    "lower = np.where(df['rider_amount']<= Q1-1.5*IQR)\n",
    "\n",
    "### removing the outliers\n",
    "df.drop(upper[0],inplace =True)\n",
    "df.drop(lower[0],inplace=True)\n",
    "print('New shape:',df.shape)"
   ]
  },
  {
   "cell_type": "markdown",
   "metadata": {},
   "source": [
    "### Building a predictive model"
   ]
  },
  {
   "cell_type": "markdown",
   "metadata": {},
   "source": [
    "#### feature extraction part, where we drop some columns that really do not have effect on the predictions of the target"
   ]
  },
  {
   "cell_type": "code",
   "execution_count": 1142,
   "metadata": {},
   "outputs": [
    {
     "data": {
      "text/plain": [
       "Index(['ID', 'order_id', 'dispatch_day', 'dispatch_day_of_week',\n",
       "       'dispatch_time', 'client_id', 'client_type', 'order_license_status',\n",
       "       'order_carrier_type', 'vendor_type', 'rider_id', 'rider_license_status',\n",
       "       'rider_carrier_type', 'rider_amount', 'rider_lat', 'rider_long',\n",
       "       'pickup_lat', 'pickup_long', 'drop_off_lat', 'drop_off_long', 'target',\n",
       "       'rider_amount_log'],\n",
       "      dtype='object')"
      ]
     },
     "execution_count": 1142,
     "metadata": {},
     "output_type": "execute_result"
    }
   ],
   "source": [
    "df.columns"
   ]
  },
  {
   "cell_type": "code",
   "execution_count": 1143,
   "metadata": {},
   "outputs": [],
   "source": [
    "feature = df.loc[:,['dispatch_day', 'dispatch_day_of_week', 'client_type', 'order_license_status',\n",
    "       'order_carrier_type','rider_license_status','rider_carrier_type', 'rider_amount']]"
   ]
  },
  {
   "cell_type": "code",
   "execution_count": 1144,
   "metadata": {},
   "outputs": [],
   "source": [
    "### X variables will be the feature and target will be target\n",
    "feature = pd.get_dummies(feature)\n",
    "\n",
    "### Since target is mulitple variable target, we can unify,\n",
    "y = pd.get_dummies(df.target)\n",
    "ignore=y.loc[:,0]\n",
    "decline=y.loc[:,1]\n",
    "accept = y.loc[:,2]"
   ]
  },
  {
   "cell_type": "code",
   "execution_count": 1145,
   "metadata": {},
   "outputs": [],
   "source": [
    "# from sklearn import preprocessing\n",
    "# standard = preprocessing.scale(feature)\n",
    "# print(standard)"
   ]
  },
  {
   "cell_type": "code",
   "execution_count": 1146,
   "metadata": {},
   "outputs": [],
   "source": [
    "### importing my metrics for machine learning purposes\n",
    "from sklearn.linear_model import LogisticRegression\n",
    "from sklearn.model_selection import train_test_split\n",
    "from sklearn.ensemble import RandomForestClassifier\n",
    "from sklearn.tree import DecisionTreeClassifier, export_graphviz\n",
    "from sklearn import metrics"
   ]
  },
  {
   "cell_type": "code",
   "execution_count": 1147,
   "metadata": {},
   "outputs": [],
   "source": [
    "#Come up with quick hypothesis from our data\n",
    "### There is a higher chance of acceptance\n",
    "### 1. When the rider_amount(earnings) are high\n",
    "### besides, the other features also do have an effect in prediction which we will use later in case we dont get the best accuracy score"
   ]
  },
  {
   "cell_type": "markdown",
   "metadata": {},
   "source": [
    "#### Prediction Is either the rider Ignore or (decline & accept) where 1 - ignore 0 - decline 0- accept\n",
    "#### Second prediction will be where 0-ignore , 1- decline, 0 -accept\n",
    "#### Third prediction will be where 0- ignore, 0-decline, 1 - accept"
   ]
  },
  {
   "cell_type": "code",
   "execution_count": 1148,
   "metadata": {},
   "outputs": [],
   "source": [
    "X_train,X_test,Y_train_ign,Y_test_ign= train_test_split(feature,ignore, test_size = 0.33, random_state = 42)\n",
    "X_train,X_test,Y_train_dec,Y_test_dec= train_test_split(feature,decline, test_size = 0.33, random_state = 42)\n",
    "X_train,X_test,Y_train_acc,Y_test_acc= train_test_split(feature,accept, test_size = 0.33, random_state = 42)"
   ]
  },
  {
   "cell_type": "code",
   "execution_count": 1149,
   "metadata": {},
   "outputs": [],
   "source": [
    "def functions(model, X_train, X_test, Y_train, Y_test):\n",
    "    model.fit(X_train, Y_train)\n",
    "    predictions = model.predict(X_test)\n",
    "    return metrics.accuracy_score(predictions,Y_test)"
   ]
  },
  {
   "cell_type": "code",
   "execution_count": 1150,
   "metadata": {},
   "outputs": [],
   "source": [
    "model1 = LogisticRegression(solver='lbfgs')\n",
    "model2 = DecisionTreeClassifier()\n",
    "model3 = RandomForestClassifier(n_estimators=100)"
   ]
  },
  {
   "cell_type": "code",
   "execution_count": 1151,
   "metadata": {},
   "outputs": [],
   "source": [
    "models = [model1, model2, model3]"
   ]
  },
  {
   "cell_type": "code",
   "execution_count": 1152,
   "metadata": {},
   "outputs": [
    {
     "name": "stderr",
     "output_type": "stream",
     "text": [
      "C:\\Users\\Castro\\Anaconda3\\lib\\site-packages\\sklearn\\linear_model\\logistic.py:947: ConvergenceWarning: lbfgs failed to converge. Increase the number of iterations.\n",
      "  \"of iterations.\", ConvergenceWarning)\n"
     ]
    },
    {
     "name": "stdout",
     "output_type": "stream",
     "text": [
      "1 Ignoring: Score 0.5560595778119084\n",
      "2 Ignoring: Score 0.5182876736793228\n",
      "3 Ignoring: Score 0.5243418937743329\n"
     ]
    },
    {
     "name": "stderr",
     "output_type": "stream",
     "text": [
      "C:\\Users\\Castro\\Anaconda3\\lib\\site-packages\\sklearn\\linear_model\\logistic.py:947: ConvergenceWarning: lbfgs failed to converge. Increase the number of iterations.\n",
      "  \"of iterations.\", ConvergenceWarning)\n"
     ]
    },
    {
     "name": "stdout",
     "output_type": "stream",
     "text": [
      "1 Declining: Score 0.5560595778119084\n",
      "2 Declining: Score 0.5183233917919777\n",
      "3 Declining: Score 0.5245204843376076\n"
     ]
    },
    {
     "name": "stderr",
     "output_type": "stream",
     "text": [
      "C:\\Users\\Castro\\Anaconda3\\lib\\site-packages\\sklearn\\linear_model\\logistic.py:947: ConvergenceWarning: lbfgs failed to converge. Increase the number of iterations.\n",
      "  \"of iterations.\", ConvergenceWarning)\n"
     ]
    },
    {
     "name": "stdout",
     "output_type": "stream",
     "text": [
      "1 Accepting: Score 0.8104082580276458\n",
      "2 Accepting: Score 0.7814230096081723\n",
      "3 Accepting: Score 0.7788334464406901\n"
     ]
    }
   ],
   "source": [
    "#for first prediction\n",
    "for i in range(0, len(models)):\n",
    "    score = functions(models[i],X_train,X_test,Y_train_ign, Y_test_ign)\n",
    "    print(i+1 , 'Ignoring: Score',score)\n",
    "    \n",
    "#for nd prediction\n",
    "for i in range(0, len(models)):\n",
    "    score = functions(models[i],X_train,X_test,Y_train, Y_test)\n",
    "    print(i+1 , 'Declining: Score',score)\n",
    "\n",
    "#for 3rd prediction\n",
    "for i in range(0, len(models)):\n",
    "    score = functions(models[i],X_train,X_test,Y_train_acc, Y_test_acc)\n",
    "    print(i+1 , 'Accepting: Score',score)"
   ]
  },
  {
   "cell_type": "markdown",
   "metadata": {},
   "source": [
    "### Since our model Accuracy is low, we have to search for the best fit features for our predictions"
   ]
  },
  {
   "cell_type": "code",
   "execution_count": 1153,
   "metadata": {},
   "outputs": [
    {
     "name": "stdout",
     "output_type": "stream",
     "text": [
      "Feature: 0, Score: -0.00901\n",
      "Feature: 1, Score: -0.04715\n",
      "Feature: 2, Score: -0.89692\n",
      "Feature: 3, Score: -0.15483\n",
      "Feature: 4, Score: -0.13684\n",
      "Feature: 5, Score: -0.10097\n",
      "Feature: 6, Score: 0.00189\n",
      "Feature: 7, Score: -0.73117\n",
      "Feature: 8, Score: -0.11145\n"
     ]
    },
    {
     "data": {
      "image/png": "[encoded data removed]",
      "text/plain": [
       "<Figure size 432x288 with 1 Axes>"
      ]
     },
     "metadata": {
      "needs_background": "light"
     },
     "output_type": "display_data"
    }
   ],
   "source": [
    "# get importance Logistic Regression\n",
    "importance = model1.coef_[0]\n",
    "# summarize feature importance\n",
    "for j,v in enumerate(importance):\n",
    "    print('Feature: %0d, Score: %.5f' % (j,v))\n",
    "# plot feature importance\n",
    "plt.bar([x for x in range(len(importance))], importance)\n",
    "plt.show()"
   ]
  },
  {
   "cell_type": "markdown",
   "metadata": {},
   "source": [
    "#### Predicting on the test data"
   ]
  },
  {
   "cell_type": "markdown",
   "metadata": {},
   "source": [
    "#### Set up the test data, for prediction"
   ]
  },
  {
   "cell_type": "code",
   "execution_count": 1154,
   "metadata": {},
   "outputs": [
    {
     "data": {
      "text/plain": [
       "(76791, 20)"
      ]
     },
     "execution_count": 1154,
     "metadata": {},
     "output_type": "execute_result"
    }
   ],
   "source": [
    "test_data = pd.read_csv('Test.csv')\n",
    "test_data.shape"
   ]
  },
  {
   "cell_type": "code",
   "execution_count": 1155,
   "metadata": {},
   "outputs": [],
   "source": [
    "#### features for prediction\n",
    "test_feature = test_data.loc[:,['dispatch_day', 'dispatch_day_of_week', 'client_type', 'order_license_status',\n",
    "       'order_carrier_type','rider_license_status','rider_carrier_type','rider_amount']]\n",
    "## encode\n",
    "test_feature = pd.get_dummies(test_feature)"
   ]
  },
  {
   "cell_type": "code",
   "execution_count": 1156,
   "metadata": {},
   "outputs": [
    {
     "name": "stderr",
     "output_type": "stream",
     "text": [
      "C:\\Users\\Castro\\Anaconda3\\lib\\site-packages\\sklearn\\linear_model\\logistic.py:432: FutureWarning: Default solver will be changed to 'lbfgs' in 0.22. Specify a solver to silence this warning.\n",
      "  FutureWarning)\n",
      "C:\\Users\\Castro\\Anaconda3\\lib\\site-packages\\ipykernel_launcher.py:15: SettingWithCopyWarning: \n",
      "A value is trying to be set on a copy of a slice from a DataFrame.\n",
      "Try using .loc[row_indexer,col_indexer] = value instead\n",
      "\n",
      "See the caveats in the documentation: http://pandas.pydata.org/pandas-docs/stable/user_guide/indexing.html#returning-a-view-versus-a-copy\n",
      "  from ipykernel import kernelapp as app\n"
     ]
    },
    {
     "data": {
      "text/html": [
       "<div>\n",
       "<style scoped>\n",
       "    .dataframe tbody tr th:only-of-type {\n",
       "        vertical-align: middle;\n",
       "    }\n",
       "\n",
       "    .dataframe tbody tr th {\n",
       "        vertical-align: top;\n",
       "    }\n",
       "\n",
       "    .dataframe thead th {\n",
       "        text-align: right;\n",
       "    }\n",
       "</style>\n",
       "<table border=\"1\" class=\"dataframe\">\n",
       "  <thead>\n",
       "    <tr style=\"text-align: right;\">\n",
       "      <th></th>\n",
       "      <th>ID</th>\n",
       "      <th>target</th>\n",
       "    </tr>\n",
       "  </thead>\n",
       "  <tbody>\n",
       "    <tr>\n",
       "      <td>120</td>\n",
       "      <td>ID_U0L43Q4B2X</td>\n",
       "      <td>2</td>\n",
       "    </tr>\n",
       "    <tr>\n",
       "      <td>188</td>\n",
       "      <td>ID_S1CNKN1M32</td>\n",
       "      <td>2</td>\n",
       "    </tr>\n",
       "    <tr>\n",
       "      <td>191</td>\n",
       "      <td>ID_FK2ZR0813O</td>\n",
       "      <td>2</td>\n",
       "    </tr>\n",
       "    <tr>\n",
       "      <td>261</td>\n",
       "      <td>ID_D0978SNFS8</td>\n",
       "      <td>2</td>\n",
       "    </tr>\n",
       "    <tr>\n",
       "      <td>378</td>\n",
       "      <td>ID_6QZ6SQ3HR0</td>\n",
       "      <td>2</td>\n",
       "    </tr>\n",
       "    <tr>\n",
       "      <td>...</td>\n",
       "      <td>...</td>\n",
       "      <td>...</td>\n",
       "    </tr>\n",
       "    <tr>\n",
       "      <td>76391</td>\n",
       "      <td>ID_WK2IM15TF9</td>\n",
       "      <td>2</td>\n",
       "    </tr>\n",
       "    <tr>\n",
       "      <td>76396</td>\n",
       "      <td>ID_LLKSXY1484</td>\n",
       "      <td>2</td>\n",
       "    </tr>\n",
       "    <tr>\n",
       "      <td>76441</td>\n",
       "      <td>ID_JCI39FDOEP</td>\n",
       "      <td>2</td>\n",
       "    </tr>\n",
       "    <tr>\n",
       "      <td>76631</td>\n",
       "      <td>ID_EJ8LPGCCEO</td>\n",
       "      <td>2</td>\n",
       "    </tr>\n",
       "    <tr>\n",
       "      <td>76642</td>\n",
       "      <td>ID_EUBQ4EX38D</td>\n",
       "      <td>2</td>\n",
       "    </tr>\n",
       "  </tbody>\n",
       "</table>\n",
       "<p>887 rows × 2 columns</p>\n",
       "</div>"
      ],
      "text/plain": [
       "                  ID  target\n",
       "120    ID_U0L43Q4B2X       2\n",
       "188    ID_S1CNKN1M32       2\n",
       "191    ID_FK2ZR0813O       2\n",
       "261    ID_D0978SNFS8       2\n",
       "378    ID_6QZ6SQ3HR0       2\n",
       "...              ...     ...\n",
       "76391  ID_WK2IM15TF9       2\n",
       "76396  ID_LLKSXY1484       2\n",
       "76441  ID_JCI39FDOEP       2\n",
       "76631  ID_EJ8LPGCCEO       2\n",
       "76642  ID_EUBQ4EX38D       2\n",
       "\n",
       "[887 rows x 2 columns]"
      ]
     },
     "execution_count": 1156,
     "metadata": {},
     "output_type": "execute_result"
    }
   ],
   "source": [
    "## First Prediction will be either Accepting-1 or (0- decline and 0 - ignore)\n",
    "### We will replace back the initial code of accept  from 1 to 2\n",
    "### we use model1 which is Logistic regression\n",
    "model.fit(X_train, Y_train_acc)\n",
    "predicts = model1.predict(test_feature)\n",
    "\n",
    "predict_acc = {'target': predicts}\n",
    "predict = pd.DataFrame(predict_acc)\n",
    "test_ID = test_data['ID']\n",
    "\n",
    "### joining the two series of data into a table\n",
    "PredictionFile_acc = test_feature.join(predict)\n",
    "PredictionFile_acc = PredictionFile_acc.join(test_ID)\n",
    "AcceptanceFile = PredictionFile_acc.loc[PredictionFile_acc['target']==1]\n",
    "AcceptanceFile['target']=2\n",
    "\n",
    "### Create A dataframe of test_ID and prediction table\n",
    "AcceptanceFile=AcceptanceFile.loc[:,['ID','target']]\n",
    "AcceptanceFile"
   ]
  },
  {
   "cell_type": "code",
   "execution_count": 1176,
   "metadata": {},
   "outputs": [],
   "source": [
    "## Second Prediction, will filter out accepted predictions and remain with th zeros (decline/ignore)\n",
    "DeclineFile = PredictionFile_acc.loc[PredictionFile_acc['target']==0]\n",
    "\n",
    "Decline= DeclineFile.iloc[:,:9]"
   ]
  },
  {
   "cell_type": "code",
   "execution_count": 1177,
   "metadata": {},
   "outputs": [
    {
     "name": "stderr",
     "output_type": "stream",
     "text": [
      "C:\\Users\\Castro\\Anaconda3\\lib\\site-packages\\sklearn\\linear_model\\logistic.py:432: FutureWarning: Default solver will be changed to 'lbfgs' in 0.22. Specify a solver to silence this warning.\n",
      "  FutureWarning)\n"
     ]
    },
    {
     "data": {
      "text/html": [
       "<div>\n",
       "<style scoped>\n",
       "    .dataframe tbody tr th:only-of-type {\n",
       "        vertical-align: middle;\n",
       "    }\n",
       "\n",
       "    .dataframe tbody tr th {\n",
       "        vertical-align: top;\n",
       "    }\n",
       "\n",
       "    .dataframe thead th {\n",
       "        text-align: right;\n",
       "    }\n",
       "</style>\n",
       "<table border=\"1\" class=\"dataframe\">\n",
       "  <thead>\n",
       "    <tr style=\"text-align: right;\">\n",
       "      <th></th>\n",
       "      <th>ID</th>\n",
       "      <th>target2</th>\n",
       "    </tr>\n",
       "  </thead>\n",
       "  <tbody>\n",
       "    <tr>\n",
       "      <td>0</td>\n",
       "      <td>ID_3B4D2Q2DSI</td>\n",
       "      <td>0</td>\n",
       "    </tr>\n",
       "    <tr>\n",
       "      <td>1</td>\n",
       "      <td>ID_7MPWFJ9XFI</td>\n",
       "      <td>0</td>\n",
       "    </tr>\n",
       "    <tr>\n",
       "      <td>2</td>\n",
       "      <td>ID_5VVT3Q3M5B</td>\n",
       "      <td>0</td>\n",
       "    </tr>\n",
       "    <tr>\n",
       "      <td>3</td>\n",
       "      <td>ID_C2GTVS1H7K</td>\n",
       "      <td>0</td>\n",
       "    </tr>\n",
       "    <tr>\n",
       "      <td>4</td>\n",
       "      <td>ID_0YGC8V3PFT</td>\n",
       "      <td>0</td>\n",
       "    </tr>\n",
       "    <tr>\n",
       "      <td>...</td>\n",
       "      <td>...</td>\n",
       "      <td>...</td>\n",
       "    </tr>\n",
       "    <tr>\n",
       "      <td>75899</td>\n",
       "      <td>ID_49OG8FQG5H</td>\n",
       "      <td>0</td>\n",
       "    </tr>\n",
       "    <tr>\n",
       "      <td>75900</td>\n",
       "      <td>ID_F27GVXQ5DU</td>\n",
       "      <td>0</td>\n",
       "    </tr>\n",
       "    <tr>\n",
       "      <td>75901</td>\n",
       "      <td>ID_YULV7FOUQE</td>\n",
       "      <td>0</td>\n",
       "    </tr>\n",
       "    <tr>\n",
       "      <td>75902</td>\n",
       "      <td>ID_3L9WF3KGSJ</td>\n",
       "      <td>0</td>\n",
       "    </tr>\n",
       "    <tr>\n",
       "      <td>75903</td>\n",
       "      <td>ID_QFU4J4N0WJ</td>\n",
       "      <td>0</td>\n",
       "    </tr>\n",
       "  </tbody>\n",
       "</table>\n",
       "<p>75904 rows × 2 columns</p>\n",
       "</div>"
      ],
      "text/plain": [
       "                  ID  target2\n",
       "0      ID_3B4D2Q2DSI        0\n",
       "1      ID_7MPWFJ9XFI        0\n",
       "2      ID_5VVT3Q3M5B        0\n",
       "3      ID_C2GTVS1H7K        0\n",
       "4      ID_0YGC8V3PFT        0\n",
       "...              ...      ...\n",
       "75899  ID_49OG8FQG5H        0\n",
       "75900  ID_F27GVXQ5DU        0\n",
       "75901  ID_YULV7FOUQE        0\n",
       "75902  ID_3L9WF3KGSJ        0\n",
       "75903  ID_QFU4J4N0WJ        0\n",
       "\n",
       "[75904 rows x 2 columns]"
      ]
     },
     "execution_count": 1177,
     "metadata": {},
     "output_type": "execute_result"
    }
   ],
   "source": [
    "## Where now we will predict either decline-1 or ignore - 0\n",
    "model.fit(X_train, Y_train_dec)\n",
    "predictss = model1.predict(Decline)\n",
    "\n",
    "predic_dec = {'target2':predictss}\n",
    "predict_dec = pd.DataFrame(predic_dec)\n",
    "\n",
    "Decline = predict_dec.join(DeclineFile)\n",
    "Decline_dat=Decline.loc[:,['ID','target2']]\n",
    "Decline_dat"
   ]
  },
  {
   "cell_type": "code",
   "execution_count": 1178,
   "metadata": {},
   "outputs": [],
   "source": [
    "columns = ['ID','target']\n",
    "Decline_dat.columns = columns"
   ]
  },
  {
   "cell_type": "code",
   "execution_count": 1179,
   "metadata": {},
   "outputs": [
    {
     "data": {
      "text/plain": [
       "0    75904\n",
       "2      887\n",
       "Name: target, dtype: int64"
      ]
     },
     "execution_count": 1179,
     "metadata": {},
     "output_type": "execute_result"
    }
   ],
   "source": [
    "Final_data = Decline_dat.append(AcceptanceFile)\n",
    "Final_data['target'].value_counts()"
   ]
  },
  {
   "cell_type": "code",
   "execution_count": null,
   "metadata": {},
   "outputs": [],
   "source": [
    "### Save as a csv file\n",
    "SubmissionFile = Final_data.to_csv('Submission.csv',index=False)"
   ]
  },
  {
   "cell_type": "code",
   "execution_count": null,
   "metadata": {},
   "outputs": [],
   "source": []
  }
 ],
 "metadata": {
  "kernelspec": {
   "display_name": "Python 3 (ipykernel)",
   "language": "python",
   "name": "python3"
  },
  "language_info": {
   "codemirror_mode": {
    "name": "ipython",
    "version": 3
   },
   "file_extension": ".py",
   "mimetype": "text/x-python",
   "name": "python",
   "nbconvert_exporter": "python",
   "pygments_lexer": "ipython3",
   "version": "3.10.9"
  }
 },
 "nbformat": 4,
 "nbformat_minor": 4
}
